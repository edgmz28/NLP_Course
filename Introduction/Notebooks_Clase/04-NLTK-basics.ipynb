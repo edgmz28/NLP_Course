{
 "cells": [
  {
   "cell_type": "markdown",
   "metadata": {},
   "source": [
    "<img style=\"float: left;;\" src='Figures/alinco.png' /></a>\n",
    "\n",
    "# Introducción: Librería NLTK\n",
    "___"
   ]
  },
  {
   "cell_type": "markdown",
   "metadata": {},
   "source": [
    "El procesamiento del lenguaje natural (NLP) a menudo se enseña a nivel académico desde la perspectiva de los lingüistas computacionales. Sin embargo, como científicos de datos, tenemos una visión más rica del mundo del lenguaje natural: datos no estructurados que, por su propia naturaleza, tienen información latente que es importante para los humanos. Los practicantes de PNL se han beneficiado de las técnicas de aprendizaje automático para desbloquear el significado de los grandes corpus, y en esta clase exploraremos cómo hacerlo en particular con Python y con Natural Language Toolkit (NLTK).\n",
    "\n",
    "NLTK es una excelente biblioteca para PNL basada en aprendizaje automático, escrita en Python por expertos tanto del mundo académico como de la industria. Python le permite crear aplicaciones de datos enriquecidos rápidamente, iterando sobre hipótesis. La combinación de Python + NLTK significa que puede agregar fácilmente productos de datos compatibles con el lenguaje a sus aplicaciones y flujos de trabajo analíticos más grandes.\n",
    "\n",
    "## Descripción rápida de NLTK\n",
    "NLTK son las siglas de Natural Language Toolkit y está escrito por dos eminentes lingüistas computacionales, Steven Bird (Investigador Asociado Senior de LDC y profesor de la Universidad de Melbourne) y Ewan Klein (Profesor de Lingüística en la Universidad de Edimburgo). NTLK proporciona una combinación de corpus de lenguaje natural, recursos léxicos y gramáticas de ejemplo con algoritmos, metodologías y demostraciones de procesamiento del lenguaje para una vista muy pitónica de \"baterías incluidas\" del procesamiento del lenguaje natural.\n",
    "\n",
    "Como tal, NLTK es perfecto para desarrollo e investigación. Su conjunto de bibliotecas incluye:\n",
    "\n",
    "- tokenización, derivación y etiquetado\n",
    "- fragmentación y análisis\n",
    "- modelado de lenguaje\n",
    "- clasificación y agrupamiento\n",
    "- semántica lógica\n",
    "\n",
    "NLTK es un recurso pedagógico útil para aprender NLP con Python y sirve como punto de partida para producir código de grado de producción que requiere análisis de lenguaje natural. También es importante comprender qué es NLTK _no_:\n",
    "\n",
    "- Producción lista para usar\n",
    "- ligero\n",
    "- Generalmente aplicable\n",
    "- Magia\n",
    "\n",
    "NLTK proporciona una variedad de herramientas que se pueden usar para explorar el dominio lingüístico, pero no es una dependencia liviana que se pueda incluir fácilmente en otros flujos de trabajo, especialmente aquellos que requieren pruebas unitarias e integrales u otros procesos de construcción. Esto se debe al hecho de que NLTK incluye una gran cantidad de código agregado, pero también una biblioteca rica y completa de corpus que alimentan los algoritmos incorporados.\n",
    "\n",
    "### Las partes buenas de NLTK\n",
    "\n",
    "- Preprocesamiento\n",
    "    - segmentation\n",
    "    - tokenization\n",
    "    - PoS tagging\n",
    "    \n",
    "- Procesamiento a nivel de palabras\n",
    "    - WordNet\n",
    "    - Lemmatization\n",
    "    - Stemming\n",
    "    - NGrams\n",
    "- Utilidades\n",
    "    - Tree\n",
    "    - FreqDist\n",
    "    - ConditionalFreqDist\n",
    "    - Streaming CorpusReaders\n",
    "- Clasificación\n",
    "    - Maximum Entropy\n",
    "    - Naive Bayes\n",
    "    - Decision Tree\n",
    "- Fragmentando\n",
    "- Named Entity Recognition\n",
    "- Parsers Galore!\n",
    "\n",
    "### Desventajas NLTK\n",
    "\n",
    "- Análisis sintáctico\n",
    "\n",
    "     - No incluye gramática (no es una caja negra)\n",
    "     - Sin análisis de funciones / dependencias\n",
    "     - No incluye gramática característica\n",
    "\n",
    "- El paquete sem\n",
    "    \n",
    "     - cálculo lambda y lógica de primer orden\n",
    "\n",
    "- Muchas cosas extra\n",
    "\n",
    "     - papers, programas de chat, alineaciones, etc.\n",
    "\n",
    "Conocer las partes buenas y malas lo ayudará a explorar NLTK más a fondo: buscar en el código fuente para extraer el material que necesita y luego mover ese código a producción. \n",
    "\n",
    "Exploraremos NLTK con más detalle \n"
   ]
  },
  {
   "cell_type": "markdown",
   "metadata": {},
   "source": [
    "\n",
    "## Instalando NLTK\n",
    "\n",
    "Puede instalar NLTK de la siguiente manera:\n",
    "\n",
    "    ~$ pip install nltk\n",
    "    \n"
   ]
  },
  {
   "cell_type": "code",
   "execution_count": 3,
   "metadata": {},
   "outputs": [],
   "source": [
    "import nltk"
   ]
  },
  {
   "cell_type": "markdown",
   "metadata": {},
   "source": [
    "Para descargar los corpus:"
   ]
  },
  {
   "cell_type": "code",
   "execution_count": 4,
   "metadata": {},
   "outputs": [
    {
     "name": "stdout",
     "output_type": "stream",
     "text": [
      "showing info https://raw.githubusercontent.com/nltk/nltk_data/gh-pages/index.xml\n"
     ]
    },
    {
     "data": {
      "text/plain": [
       "True"
      ]
     },
     "execution_count": 4,
     "metadata": {},
     "output_type": "execute_result"
    }
   ],
   "source": [
    "nltk.download()"
   ]
  },
  {
   "cell_type": "markdown",
   "metadata": {},
   "source": [
    "Esto abrirá una ventana con la que puede descargar los distintos corpus y modelos a una ubicación específica. Por ahora, continuemos y descárguemos todo. "
   ]
  },
  {
   "cell_type": "markdown",
   "metadata": {},
   "source": [
    "## Trabajando con un corpus de NLTK\n",
    "\n",
    "NLTK contiene una variedad de corpus, usemos algunos de ellos para trabajar un poco. Cargaremos el texto de _Moby Dick_ de la siguiente manera:"
   ]
  },
  {
   "cell_type": "code",
   "execution_count": 6,
   "metadata": {},
   "outputs": [],
   "source": [
    "moby = nltk.text.Text(nltk.corpus.gutenberg.words('melville-moby_dick.txt'))"
   ]
  },
  {
   "cell_type": "markdown",
   "metadata": {},
   "source": [
    "La clase `nltk.text.Text` es un envoltorio alrededor de una secuencia de tokens simples (cadenas) - destinada solo para _la exploración inicial de texto_ generalmente a través de Python REPL. Tiene los siguientes métodos:\n",
    "\n",
    "- common_contexts\n",
    "- concordance\n",
    "- collocations\n",
    "- count\n",
    "- plot\n",
    "- findall\n",
    "- index\n",
    "\n",
    "No debe usar esta clase en sistemas de nivel de producción, pero es útil para explorar fragmentos (pequeños) de texto de manera significativa.\n",
    "\n",
    "La función de concordancia realiza una búsqueda del token dado y luego también proporciona el contexto circundante:\n"
   ]
  },
  {
   "cell_type": "code",
   "execution_count": 10,
   "metadata": {},
   "outputs": [
    {
     "name": "stdout",
     "output_type": "stream",
     "text": [
      "Displaying 10 of 11 matches:\n",
      "eared . Among the former , one was of a most monstrous size . ... This came towards us , open - mou\n",
      " ' S VERSION OF THE PSALMS . \" Touching that monstrous bulk of the whale or ork we have received no\n",
      "was hung all over with a heathenish array of monstrous clubs and spears . Some were thickly set wit\n",
      "u shuddered as you gazed , and wondered what monstrous cannibal and savage could ever have gone a d\n",
      "ated mass that has survived the flood ; most monstrous and most mountainous ! That Himmalehan , sal\n",
      "fishery , they might scout at Moby Dick as a monstrous fable , or still worse and more detestable ,\n",
      "ce the death of Radney .'\" CHAPTER 55 Of the Monstrous Pictures of Whales . I shall ere long paint \n",
      "es of Whaling Scenes . In connexion with the monstrous pictures of whales , I am strongly tempted h\n",
      " tempted here to enter upon those still more monstrous stories of them which are to be found in cer\n",
      "marvels might have been rummaged out of this monstrous cabinet there is no telling . But a sudden s\n"
     ]
    }
   ],
   "source": [
    "moby.concordance(\"monstrous\", 100, lines=10)"
   ]
  },
  {
   "cell_type": "markdown",
   "metadata": {},
   "source": [
    "Dado algún contexto que rodea una palabra, podemos descubrir palabras similares, p. Ej. palabras que aparecen con frecuencia en el mismo contexto y con una distribución similar: Similitud de distribución:"
   ]
  },
  {
   "cell_type": "code",
   "execution_count": 14,
   "metadata": {},
   "outputs": [
    {
     "name": "stdout",
     "output_type": "stream",
     "text": [
      "it he that queequeg stubb him there starbuck i what man and all then\n",
      "this me peleg which here you\n",
      "None\n"
     ]
    }
   ],
   "source": [
    "print(moby.similar(\"ahab\"))"
   ]
  },
  {
   "cell_type": "markdown",
   "metadata": {},
   "source": [
    "Como puede ver, esto toma un poco de tiempo, una de las razones por las que no se sugiere usar esta clase en el código de producción. Ahora que podemos hacer búsquedas y similitudes, encuentre los contextos comunes de un conjunto de palabras:"
   ]
  },
  {
   "cell_type": "code",
   "execution_count": 15,
   "metadata": {},
   "outputs": [
    {
     "name": "stdout",
     "output_type": "stream",
     "text": [
      "of_s in_s that_s king_s to_the cried_and to_he to_s all_s to_that\n",
      "howled_as was_s for_and and_s but_is of_and as_s that_in time_s\n",
      "and_and\n"
     ]
    }
   ],
   "source": [
    "moby.common_contexts([\"ahab\",\"queequeg\"])"
   ]
  },
  {
   "cell_type": "markdown",
   "metadata": {},
   "source": [
    "\n",
    "NLTK también usa matplotlib y pylab para mostrar gráficos y tablas que pueden mostrar dispersiones y frecuencia. Esto es especialmente interesante para el corpus de discursos innagurales dados por los presidentes de Estados Unidos."
   ]
  },
  {
   "cell_type": "code",
   "execution_count": 17,
   "metadata": {},
   "outputs": [],
   "source": [
    "inaugural = nltk.text.Text(nltk.corpus.inaugural.words())"
   ]
  },
  {
   "cell_type": "code",
   "execution_count": 18,
   "metadata": {},
   "outputs": [
    {
     "data": {
      "image/png": "[encoded data removed]",
      "text/plain": [
       "<Figure size 432x288 with 1 Axes>"
      ]
     },
     "metadata": {
      "needs_background": "light"
     },
     "output_type": "display_data"
    }
   ],
   "source": [
    "inaugural.dispersion_plot([\"citizens\", \"democracy\", \"freedom\"])"
   ]
  },
  {
   "cell_type": "markdown",
   "metadata": {},
   "source": [
    "Para explorar gran parte del corpus integrado, utilice los siguientes métodos:"
   ]
  },
  {
   "cell_type": "code",
   "execution_count": 20,
   "metadata": {},
   "outputs": [
    {
     "name": "stdout",
     "output_type": "stream",
     "text": [
      "abc\n",
      "alpino\n",
      "brown\n",
      "cess_cat\n",
      "cess_esp\n",
      "cmudict\n",
      "comparative_sentences\n",
      "comtrans\n",
      "conll2000\n",
      "conll2002\n",
      "conll2007\n",
      "crubadan\n",
      "demo\n",
      "dependency_treebank\n",
      "find_corpus_fileids\n",
      "floresta\n",
      "framenet\n",
      "framenet15\n",
      "gazetteers\n",
      "genesis\n",
      "gutenberg\n",
      "ieer\n",
      "inaugural\n",
      "indian\n",
      "jeita\n",
      "knbc\n",
      "lin_thesaurus\n",
      "mac_morpho\n",
      "machado\n",
      "masc_tagged\n",
      "movie_reviews\n",
      "multext_east\n",
      "names\n",
      "nombank\n",
      "nombank_ptb\n",
      "nonbreaking_prefixes\n",
      "nps_chat\n",
      "opinion_lexicon\n",
      "perluniprops\n",
      "ppattach\n",
      "product_reviews_1\n",
      "product_reviews_2\n",
      "propbank\n",
      "propbank_ptb\n",
      "pros_cons\n",
      "ptb\n",
      "qc\n",
      "re\n",
      "reader\n",
      "reuters\n",
      "rte\n",
      "semcor\n",
      "senseval\n",
      "sentence_polarity\n",
      "sentiwordnet\n",
      "shakespeare\n",
      "sinica_treebank\n",
      "state_union\n",
      "stopwords\n",
      "subjectivity\n",
      "swadesh\n",
      "swadesh110\n",
      "swadesh207\n",
      "switchboard\n",
      "tagged_treebank_para_block_reader\n",
      "teardown_module\n",
      "timit\n",
      "timit_tagged\n",
      "toolbox\n",
      "treebank\n",
      "treebank_chunk\n",
      "treebank_raw\n",
      "twitter_samples\n",
      "udhr\n",
      "udhr2\n",
      "universal_treebanks\n",
      "util\n",
      "verbnet\n",
      "webtext\n",
      "wordnet\n",
      "wordnet_ic\n",
      "words\n"
     ]
    }
   ],
   "source": [
    "for name in dir(nltk.corpus):\n",
    "    if name.islower() and not name.startswith('_'):\n",
    "        print(name)"
   ]
  },
  {
   "cell_type": "code",
   "execution_count": null,
   "metadata": {},
   "outputs": [],
   "source": []
  },
  {
   "cell_type": "code",
   "execution_count": null,
   "metadata": {},
   "outputs": [],
   "source": []
  },
  {
   "cell_type": "code",
   "execution_count": null,
   "metadata": {},
   "outputs": [],
   "source": []
  },
  {
   "cell_type": "markdown",
   "metadata": {},
   "source": [
    "Estos corpus exportan varios métodos vitales:\n",
    "\n",
    "- paras (iterate through each paragraph)\n",
    "- sents (iterate through each sentence)\n",
    "- words (iterate through each word)\n",
    "- raw   (get access to the raw text)"
   ]
  },
  {
   "cell_type": "code",
   "execution_count": null,
   "metadata": {},
   "outputs": [],
   "source": []
  },
  {
   "cell_type": "code",
   "execution_count": null,
   "metadata": {},
   "outputs": [],
   "source": []
  },
  {
   "cell_type": "code",
   "execution_count": null,
   "metadata": {},
   "outputs": [],
   "source": []
  },
  {
   "cell_type": "code",
   "execution_count": null,
   "metadata": {},
   "outputs": [],
   "source": []
  },
  {
   "cell_type": "code",
   "execution_count": null,
   "metadata": {},
   "outputs": [],
   "source": []
  }
 ],
 "metadata": {
  "kernelspec": {
   "display_name": "Python 3",
   "language": "python",
   "name": "python3"
  },
  "language_info": {
   "codemirror_mode": {
    "name": "ipython",
    "version": 3
   },
   "file_extension": ".py",
   "mimetype": "text/x-python",
   "name": "python",
   "nbconvert_exporter": "python",
   "pygments_lexer": "ipython3",
   "version": "3.8.5"
  }
 },
 "nbformat": 4,
 "nbformat_minor": 1
}
