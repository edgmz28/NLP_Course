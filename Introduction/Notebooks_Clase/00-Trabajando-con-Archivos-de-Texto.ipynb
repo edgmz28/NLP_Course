{
 "cells": [
  {
   "cell_type": "markdown",
   "metadata": {},
   "source": [
    "\n",
    "<img style=\"float: left;;\" src='Figures/alinco.png' /></a>\n",
    "\n",
    "# Introducción: Trabajando Con Archivos de Texto\n",
    "___"
   ]
  },
  {
   "cell_type": "markdown",
   "metadata": {},
   "source": [
    "En esta sección trabajaremos:\n",
    "\n",
    " * Con f-strings para impresión de texto\n",
    " * Con archivos: abrir, leer, escribir y agregar archivos de texto"
   ]
  },
  {
   "cell_type": "markdown",
   "metadata": {},
   "source": [
    "## f-strings"
   ]
  },
  {
   "cell_type": "markdown",
   "metadata": {},
   "source": [
    "Introducido en Python 3.6, <strong> f-strings </strong> ofrece varios beneficios sobre el antiguo método de impresión de una cadena `.format ()`. <br> Por un lado, puede traer variables externas inmediatamente a la cadena en lugar de pasarlas como argumentos en la función:"
   ]
  },
  {
   "cell_type": "code",
   "execution_count": 1,
   "metadata": {},
   "outputs": [
    {
     "name": "stdout",
     "output_type": "stream",
     "text": [
      "Un integrante del curso de NLP es: Luis\n"
     ]
    }
   ],
   "source": [
    "name = 'Luis'\n",
    "\n",
    "print('Un integrante del curso de NLP es: {var}'.format(var=name))\n",
    "\n"
   ]
  },
  {
   "cell_type": "code",
   "execution_count": 2,
   "metadata": {},
   "outputs": [
    {
     "name": "stdout",
     "output_type": "stream",
     "text": [
      "Un integrante del curso de NLP es: Luis\n"
     ]
    }
   ],
   "source": [
    "print(f'Un integrante del curso de NLP es: {name}')"
   ]
  },
  {
   "cell_type": "markdown",
   "metadata": {},
   "source": [
    "Agregando `!r` se obtiene <strong>la representación de la cadena</strong>:"
   ]
  },
  {
   "cell_type": "code",
   "execution_count": 3,
   "metadata": {},
   "outputs": [
    {
     "name": "stdout",
     "output_type": "stream",
     "text": [
      "Un integrante del curso de NLP es: 'Luis'\n"
     ]
    }
   ],
   "source": [
    "print(f'Un integrante del curso de NLP es: {name!r}')"
   ]
  },
  {
   "cell_type": "markdown",
   "metadata": {},
   "source": [
    "Hay que tener cuidado de no permitir que las comillas en los campos de reemplazo entren en conflicto con las comillas utilizadas en la cadena exterior:"
   ]
  },
  {
   "cell_type": "code",
   "execution_count": 4,
   "metadata": {},
   "outputs": [
    {
     "ename": "SyntaxError",
     "evalue": "invalid syntax (<ipython-input-4-265868b6ae5b>, line 2)",
     "output_type": "error",
     "traceback": [
      "\u001b[0;36m  File \u001b[0;32m\"<ipython-input-4-265868b6ae5b>\"\u001b[0;36m, line \u001b[0;32m2\u001b[0m\n\u001b[0;31m    print(f'La dirección es: {d['a']} ')\u001b[0m\n\u001b[0m                                 ^\u001b[0m\n\u001b[0;31mSyntaxError\u001b[0m\u001b[0;31m:\u001b[0m invalid syntax\n"
     ]
    }
   ],
   "source": [
    "d = {'a':123, 'b':456}\n",
    "print(f'La dirección es: {d['a']} ')"
   ]
  },
  {
   "cell_type": "markdown",
   "metadata": {},
   "source": [
    "En vez de eso, hay que usar diferentes estilos de comillas:"
   ]
  },
  {
   "cell_type": "code",
   "execution_count": 5,
   "metadata": {},
   "outputs": [
    {
     "name": "stdout",
     "output_type": "stream",
     "text": [
      "La dirección es: 123 \n"
     ]
    }
   ],
   "source": [
    "d = {'a':123, 'b':456}\n",
    "print(f\"La dirección es: {d['a']} \")"
   ]
  },
  {
   "cell_type": "markdown",
   "metadata": {},
   "source": [
    "### Anchos mínimos, alineación y rellenado\n",
    "Podemos pasar argumentos dentro de un conjunto anidado de llaves para establecer un ancho mínimo para el campo, la alineación e incluso los caracteres de relleno."
   ]
  },
  {
   "cell_type": "code",
   "execution_count": 7,
   "metadata": {},
   "outputs": [
    {
     "name": "stdout",
     "output_type": "stream",
     "text": [
      "Autor      Tópico   Páginas\n",
      "Twain      Rafting      601\n",
      "Feynman    Physics       95\n",
      "Hamilton   Mithology     144\n"
     ]
    }
   ],
   "source": [
    "library = [('Autor', 'Tópico', 'Páginas'),('Twain', 'Rafting', 601),\n",
    "           ('Feynman', 'Physics',95),('Hamilton', 'Mithology', 144)]\n",
    "\n",
    "for book in library:\n",
    "    print(f'{book[0]:{10}} {book[1]:{8}} {book[2]:{7}}' )"
   ]
  },
  {
   "cell_type": "markdown",
   "metadata": {},
   "source": [
    "Aquí las primeras tres líneas se alinean, excepto que `Pages` sigue una alineación predeterminada a la izquierda, mientras que los números están alineados a la derecha. Además, el número de página de la cuarta línea se desplaza hacia la derecha ya que \"Mitología\" supera el ancho de campo mínimo de \"8\". Al configurar los anchos de campo mínimos, asegúrese de tener en cuenta el elemento más largo.\n",
    "\n",
    "Para establecer la alineación, utilice el carácter `<` para alinear a la izquierda, `^` para el centro, `>` para la derecha. <br>\n",
    "Para configurar el relleno, preceda el carácter de alineación con el carácter de relleno (`-` y` .` son opciones comunes).\n",
    "\n",
    "Hagamos algunos ajustes:"
   ]
  },
  {
   "cell_type": "code",
   "execution_count": 11,
   "metadata": {},
   "outputs": [
    {
     "name": "stdout",
     "output_type": "stream",
     "text": [
      "Autor      Tópico     Páginas\n",
      "Twain      Rafting    ....601\n",
      "Feynman    Physics    .....95\n",
      "Hamilton   Mithology  ....144\n"
     ]
    }
   ],
   "source": [
    "for book in library:\n",
    "    print(f'{book[0]:{10}} {book[1]:{10}} {book[2]:.>{7}}' )"
   ]
  },
  {
   "cell_type": "markdown",
   "metadata": {},
   "source": [
    "### Formato de fecha"
   ]
  },
  {
   "cell_type": "code",
   "execution_count": 13,
   "metadata": {},
   "outputs": [
    {
     "name": "stdout",
     "output_type": "stream",
     "text": [
      " July 09, 2021\n"
     ]
    }
   ],
   "source": [
    "from datetime import datetime\n",
    "\n",
    "today = datetime(year=2021, month=7, day= 9)\n",
    "\n",
    "print(f'{today: %B %d, %Y}')"
   ]
  },
  {
   "cell_type": "markdown",
   "metadata": {},
   "source": [
    "Para mayor información: https://docs.python.org/3/reference/lexical_analysis.html#f-strings\n",
    "\n",
    "***"
   ]
  },
  {
   "cell_type": "markdown",
   "metadata": {},
   "source": [
    "# Archivos\n",
    "\n",
    "Python usa objetos de archivo para interactuar con archivos externos en su computadora. Estos objetos de archivo pueden ser cualquier tipo de archivo que tenga en su computadora, ya sea un archivo de audio, un archivo de texto, correos electrónicos, documentos de Excel, etc. Nota: Probablemente necesitará instalar ciertas bibliotecas o módulos para interactuar con esas diversas tipos de archivos, pero están fácilmente disponibles. \n",
    "\n",
    "Python tiene una función de apertura incorporada que nos permite abrir y jugar con tipos de archivos básicos. Sin embargo, primero necesitaremos un archivo. ¡Usaremos algo de magia de IPython para crear un archivo de texto!\n",
    "\n",
    "## Creación de un archivo con IPython\n",
    "#### ¡Esta función es específica de los cuadernos jupyter! Una manera alternativa es crear rápidamente un archivo .txt simple con algún editor de texto."
   ]
  },
  {
   "cell_type": "code",
   "execution_count": 14,
   "metadata": {},
   "outputs": [
    {
     "name": "stdout",
     "output_type": "stream",
     "text": [
      "Overwriting test.txt\n"
     ]
    }
   ],
   "source": [
    "%%writefile test.txt\n",
    "Hola, este es mi primer archivo de texto.\n",
    "Esta es la segunda linea de mi archivo de texto."
   ]
  },
  {
   "cell_type": "markdown",
   "metadata": {},
   "source": [
    "## Abriendo un archivo en Python\n",
    "\n",
    "### Hay que conocer la ubicación de nuestro archivo\n",
    "\n",
    "Es fácil obtener un error en este paso:"
   ]
  },
  {
   "cell_type": "code",
   "execution_count": 17,
   "metadata": {},
   "outputs": [],
   "source": [
    "myfile = open('test.txt')"
   ]
  },
  {
   "cell_type": "markdown",
   "metadata": {},
   "source": [
    "Para evitar este error, asegúrese de que su archivo .txt esté guardado en la misma ubicación que su computadora portátil. Para verificar la ubicación de su computadora portátil, use ** pwd **:"
   ]
  },
  {
   "cell_type": "code",
   "execution_count": 16,
   "metadata": {},
   "outputs": [
    {
     "data": {
      "text/plain": [
       "'/home/gaddiel/OneDrive/ALINNCO/IA_Master/Procesamiento Natural del Lenguaje/NLP_Course/Introduction/Notebooks_Clase'"
      ]
     },
     "execution_count": 16,
     "metadata": {},
     "output_type": "execute_result"
    }
   ],
   "source": [
    "pwd"
   ]
  },
  {
   "cell_type": "markdown",
   "metadata": {},
   "source": [
    "**Alternativamente, para tomar archivos de cualquier ubicación en su computadora, simplemente pase la ruta completa del archivo.**\n",
    "\n",
    "Para Windows, debe usar doble \\ para que Python no trate el segundo \\ como un carácter de escape, una ruta de archivo tiene la forma:\n",
    "\n",
    "    myfile = open(\"C:\\\\Users\\\\YourUserName\\\\Home\\\\Folder\\\\myfile.txt\")\n",
    "\n",
    "Para MacOS y Linux hay que usar las diagonales invertidas:\n",
    "\n",
    "    myfile = open(\"/Users/YourUserName/Folder/myfile.txt\")"
   ]
  },
  {
   "cell_type": "code",
   "execution_count": 18,
   "metadata": {},
   "outputs": [
    {
     "data": {
      "text/plain": [
       "<_io.TextIOWrapper name='test.txt' mode='r' encoding='UTF-8'>"
      ]
     },
     "execution_count": 18,
     "metadata": {},
     "output_type": "execute_result"
    }
   ],
   "source": [
    "myfile"
   ]
  },
  {
   "cell_type": "code",
   "execution_count": null,
   "metadata": {},
   "outputs": [],
   "source": []
  },
  {
   "cell_type": "markdown",
   "metadata": {},
   "source": [
    "`my_file` es ahora un objeto de archivo abierto almacenado en la memoria. Realizaremos algunos ejercicios de lectura y escritura, y luego tendremos que cerrar el archivo para liberar memoria.\n",
    "\n",
    "### .read() y .seek()"
   ]
  },
  {
   "cell_type": "code",
   "execution_count": 19,
   "metadata": {},
   "outputs": [
    {
     "data": {
      "text/plain": [
       "'Hola, este es mi primer archivo de texto.\\nEsta es la segunda linea de mi archivo de texto.\\n'"
      ]
     },
     "execution_count": 19,
     "metadata": {},
     "output_type": "execute_result"
    }
   ],
   "source": [
    "myfile.read()"
   ]
  },
  {
   "cell_type": "code",
   "execution_count": 20,
   "metadata": {},
   "outputs": [
    {
     "data": {
      "text/plain": [
       "''"
      ]
     },
     "execution_count": 20,
     "metadata": {},
     "output_type": "execute_result"
    }
   ],
   "source": [
    "myfile.read()"
   ]
  },
  {
   "cell_type": "markdown",
   "metadata": {},
   "source": [
    "Esto sucede porque puedes imaginar que el \"cursor\" de lectura está al final del archivo después de haberlo leído. Entonces no queda nada por leer. Podemos restablecer el \"cursor\" así:"
   ]
  },
  {
   "cell_type": "code",
   "execution_count": 21,
   "metadata": {},
   "outputs": [
    {
     "data": {
      "text/plain": [
       "0"
      ]
     },
     "execution_count": 21,
     "metadata": {},
     "output_type": "execute_result"
    }
   ],
   "source": [
    "myfile.seek(0)"
   ]
  },
  {
   "cell_type": "code",
   "execution_count": 22,
   "metadata": {},
   "outputs": [
    {
     "data": {
      "text/plain": [
       "'Hola, este es mi primer archivo de texto.\\nEsta es la segunda linea de mi archivo de texto.\\n'"
      ]
     },
     "execution_count": 22,
     "metadata": {},
     "output_type": "execute_result"
    }
   ],
   "source": [
    "myfile.read()"
   ]
  },
  {
   "cell_type": "code",
   "execution_count": 26,
   "metadata": {},
   "outputs": [
    {
     "data": {
      "text/plain": [
       "0"
      ]
     },
     "execution_count": 26,
     "metadata": {},
     "output_type": "execute_result"
    }
   ],
   "source": [
    "myfile.seek(0)"
   ]
  },
  {
   "cell_type": "code",
   "execution_count": 25,
   "metadata": {},
   "outputs": [
    {
     "data": {
      "text/plain": [
       "' es mi primer archivo de texto.\\nEsta es la segunda linea de mi archivo de texto.\\n'"
      ]
     },
     "execution_count": 25,
     "metadata": {},
     "output_type": "execute_result"
    }
   ],
   "source": [
    "myfile.read()"
   ]
  },
  {
   "cell_type": "code",
   "execution_count": null,
   "metadata": {},
   "outputs": [],
   "source": []
  },
  {
   "cell_type": "markdown",
   "metadata": {},
   "source": [
    "### .readlines()\n",
    "Puede leer un archivo línea por línea utilizando el método readlines. Tenga cuidado con los archivos grandes, ya que todo se guardará en la memoria. Aprenderemos cómo iterar sobre archivos grandes más adelante en el curso."
   ]
  },
  {
   "cell_type": "code",
   "execution_count": 27,
   "metadata": {},
   "outputs": [
    {
     "data": {
      "text/plain": [
       "0"
      ]
     },
     "execution_count": 27,
     "metadata": {},
     "output_type": "execute_result"
    }
   ],
   "source": [
    "myfile.seek(0)"
   ]
  },
  {
   "cell_type": "code",
   "execution_count": 28,
   "metadata": {},
   "outputs": [
    {
     "data": {
      "text/plain": [
       "['Hola, este es mi primer archivo de texto.\\n',\n",
       " 'Esta es la segunda linea de mi archivo de texto.\\n']"
      ]
     },
     "execution_count": 28,
     "metadata": {},
     "output_type": "execute_result"
    }
   ],
   "source": [
    "myfile.readlines()"
   ]
  },
  {
   "cell_type": "markdown",
   "metadata": {},
   "source": [
    "Cuando haya terminado de usar un archivo, siempre es una buena práctica cerrarlo."
   ]
  },
  {
   "cell_type": "code",
   "execution_count": 29,
   "metadata": {},
   "outputs": [],
   "source": [
    "myfile.close()"
   ]
  },
  {
   "cell_type": "markdown",
   "metadata": {},
   "source": [
    "## Escribir en un archivo\n",
    "\n",
    "Por defecto, la función `open ()` solo nos permitirá leer el archivo. Necesitamos pasar el argumento `'w'` para escribir sobre el archivo. Por ejemplo:"
   ]
  },
  {
   "cell_type": "code",
   "execution_count": 30,
   "metadata": {},
   "outputs": [],
   "source": [
    "myfile = open('test.txt', 'w+')"
   ]
  },
  {
   "cell_type": "markdown",
   "metadata": {},
   "source": [
    "<div class=\"alert alert-danger\" style=\"margin: 20px\">**Cuidado!**<br>\n",
    "Abrir un archivo con 'w' o 'w +' * trunca el original *, lo que significa que todo lo que estaba en el archivo original ** se elimina **.</div>"
   ]
  },
  {
   "cell_type": "code",
   "execution_count": 31,
   "metadata": {},
   "outputs": [
    {
     "data": {
      "text/plain": [
       "23"
      ]
     },
     "execution_count": 31,
     "metadata": {},
     "output_type": "execute_result"
    }
   ],
   "source": [
    "myfile.write('Esta es una nueva linea')"
   ]
  },
  {
   "cell_type": "code",
   "execution_count": 32,
   "metadata": {},
   "outputs": [
    {
     "data": {
      "text/plain": [
       "'Esta es una nueva linea'"
      ]
     },
     "execution_count": 32,
     "metadata": {},
     "output_type": "execute_result"
    }
   ],
   "source": [
    "myfile.seek(0)\n",
    "myfile.read()"
   ]
  },
  {
   "cell_type": "code",
   "execution_count": 33,
   "metadata": {},
   "outputs": [],
   "source": [
    "myfile.close()"
   ]
  },
  {
   "cell_type": "markdown",
   "metadata": {},
   "source": [
    "## Agregar a un archivo\n",
    "Pasar el argumento `'a'` abre el archivo y coloca el puntero al final, por lo que se agrega todo lo escrito. Como `` 'w +' '', `` 'a +' 'nos permite leer y escribir en un archivo. Si el archivo no existe, se creará uno."
   ]
  },
  {
   "cell_type": "code",
   "execution_count": 34,
   "metadata": {},
   "outputs": [
    {
     "data": {
      "text/plain": [
       "62"
      ]
     },
     "execution_count": 34,
     "metadata": {},
     "output_type": "execute_result"
    }
   ],
   "source": [
    "myfile = open('test.txt', 'a+')\n",
    "myfile.write('\\n esta linea se concatena con las anteriores')\n",
    "myfile.write('\\n Esta es otra nueva linea que se concatena con las anteriores')"
   ]
  },
  {
   "cell_type": "code",
   "execution_count": 35,
   "metadata": {},
   "outputs": [
    {
     "data": {
      "text/plain": [
       "0"
      ]
     },
     "execution_count": 35,
     "metadata": {},
     "output_type": "execute_result"
    }
   ],
   "source": [
    "myfile.seek(0)"
   ]
  },
  {
   "cell_type": "code",
   "execution_count": 36,
   "metadata": {},
   "outputs": [
    {
     "name": "stdout",
     "output_type": "stream",
     "text": [
      "Esta es una nueva linea\n",
      " esta linea se concatena con las anteriores\n",
      " Esta es otra nueva linea que se concatena con las anteriores\n"
     ]
    }
   ],
   "source": [
    "print(myfile.read())"
   ]
  },
  {
   "cell_type": "code",
   "execution_count": 37,
   "metadata": {},
   "outputs": [],
   "source": [
    "myfile.close()"
   ]
  },
  {
   "cell_type": "markdown",
   "metadata": {},
   "source": [
    "### Anexando con `%% writefile`\n",
    "Con jupyter notebook también se pueden hacer lo mismo con una celda mágica de IPython:"
   ]
  },
  {
   "cell_type": "code",
   "execution_count": 39,
   "metadata": {},
   "outputs": [
    {
     "name": "stdout",
     "output_type": "stream",
     "text": [
      "Appending to test.txt\n"
     ]
    }
   ],
   "source": [
    "%%writefile -a test.txt\n",
    "este es más contenido para el archivo test.txt\n",
    "otra linea"
   ]
  },
  {
   "cell_type": "markdown",
   "metadata": {},
   "source": [
    "Agregamos un espacio en blanco si desea que la primera línea comience en su propia línea, ya que Jupyter no reconocerá secuencias de escape como `\\ n`"
   ]
  },
  {
   "cell_type": "markdown",
   "metadata": {},
   "source": [
    "## Alias y gestores de contexto\n",
    "Podemos asignar nombres de variables temporales como alias y administrar la apertura y el cierre de archivos automáticamente utilizando un administrador de contexto:"
   ]
  },
  {
   "cell_type": "code",
   "execution_count": 43,
   "metadata": {},
   "outputs": [
    {
     "name": "stdout",
     "output_type": "stream",
     "text": [
      "Esta es una nueva linea\n",
      "\n",
      " esta linea se concatena con las anteriores\n",
      "\n"
     ]
    }
   ],
   "source": [
    "with open('test.txt', 'r') as txt:\n",
    "    first_line = txt.readlines()[0]\n",
    "    txt.seek(0)\n",
    "    second_line = txt.readlines()[1]\n",
    "    \n",
    "print(first_line)\n",
    "print(second_line)"
   ]
  },
  {
   "cell_type": "markdown",
   "metadata": {},
   "source": [
    "Tenga en cuenta que el administrador de contexto `with ... as ...:` cerró automáticamente `test.txt` después de asignar la primera línea de texto a first_line:"
   ]
  },
  {
   "cell_type": "code",
   "execution_count": null,
   "metadata": {},
   "outputs": [],
   "source": []
  },
  {
   "cell_type": "markdown",
   "metadata": {},
   "source": [
    "## Iterar sobre un archivo"
   ]
  },
  {
   "cell_type": "code",
   "execution_count": 50,
   "metadata": {},
   "outputs": [
    {
     "name": "stdout",
     "output_type": "stream",
     "text": [
      "Esta es una nueva linea\n",
      " esta linea se concatena con las anteriores\n",
      " Esta es otra nueva linea que se concatena con las anterioreseste es más contenido para el archivo test.txt\n",
      "otra linea\n"
     ]
    }
   ],
   "source": [
    "with open('test.txt','r') as txt:\n",
    "    for line in txt:\n",
    "        print(line, end='')"
   ]
  },
  {
   "cell_type": "code",
   "execution_count": null,
   "metadata": {},
   "outputs": [],
   "source": []
  }
 ],
 "metadata": {
  "kernelspec": {
   "display_name": "Python 3",
   "language": "python",
   "name": "python3"
  },
  "language_info": {
   "codemirror_mode": {
    "name": "ipython",
    "version": 3
   },
   "file_extension": ".py",
   "mimetype": "text/x-python",
   "name": "python",
   "nbconvert_exporter": "python",
   "pygments_lexer": "ipython3",
   "version": "3.8.5"
  }
 },
 "nbformat": 4,
 "nbformat_minor": 2
}
