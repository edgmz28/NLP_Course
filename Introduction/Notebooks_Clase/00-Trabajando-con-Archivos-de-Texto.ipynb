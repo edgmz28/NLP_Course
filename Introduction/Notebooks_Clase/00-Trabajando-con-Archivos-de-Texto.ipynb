{
 "cells": [
  {
   "cell_type": "markdown",
   "metadata": {},
   "source": [
    "\n",
    "<img style=\"float: left;;\" src='Figures/alinco.png' /></a>\n",
    "\n",
    "# Introducción: Trabajando Con Archivos de Texto\n",
    "___"
   ]
  },
  {
   "cell_type": "markdown",
   "metadata": {},
   "source": [
    "En esta sección trabajaremos:\n",
    "\n",
    " * Con f-strings para impresión de texto\n",
    " * Con archivos: abrir, leer, escribir y agregar archivos de texto"
   ]
  },
  {
   "cell_type": "markdown",
   "metadata": {},
   "source": [
    "## f-strings"
   ]
  },
  {
   "cell_type": "markdown",
   "metadata": {},
   "source": [
    "Introducido en Python 3.6, <strong> f-strings </strong> ofrece varios beneficios sobre el antiguo método de impresión de una cadena `.format ()`. <br> Por un lado, puede traer variables externas inmediatamente a la cadena en lugar de pasarlas como argumentos en la función:"
   ]
  },
  {
   "cell_type": "code",
   "execution_count": null,
   "metadata": {},
   "outputs": [],
   "source": []
  },
  {
   "cell_type": "markdown",
   "metadata": {},
   "source": [
    "Agregando `!r` se obtiene <strong>la representación de la cadena</strong>:"
   ]
  },
  {
   "cell_type": "code",
   "execution_count": null,
   "metadata": {},
   "outputs": [],
   "source": []
  },
  {
   "cell_type": "markdown",
   "metadata": {},
   "source": [
    "Hay que tener cuidado de no permitir que las comillas en los campos de reemplazo entren en conflicto con las comillas utilizadas en la cadena exterior:"
   ]
  },
  {
   "cell_type": "code",
   "execution_count": null,
   "metadata": {},
   "outputs": [],
   "source": []
  },
  {
   "cell_type": "markdown",
   "metadata": {},
   "source": [
    "En vez de eso, hay que usar diferentes estilos de comillas:"
   ]
  },
  {
   "cell_type": "code",
   "execution_count": null,
   "metadata": {},
   "outputs": [],
   "source": []
  },
  {
   "cell_type": "markdown",
   "metadata": {},
   "source": [
    "### Anchos mínimos, alineación y rellenado\n",
    "Podemos pasar argumentos dentro de un conjunto anidado de llaves para establecer un ancho mínimo para el campo, la alineación e incluso los caracteres de relleno."
   ]
  },
  {
   "cell_type": "code",
   "execution_count": null,
   "metadata": {},
   "outputs": [],
   "source": []
  },
  {
   "cell_type": "markdown",
   "metadata": {},
   "source": [
    "Aquí las primeras tres líneas se alinean, excepto que `Pages` sigue una alineación predeterminada a la izquierda, mientras que los números están alineados a la derecha. Además, el número de página de la cuarta línea se desplaza hacia la derecha ya que \"Mitología\" supera el ancho de campo mínimo de \"8\". Al configurar los anchos de campo mínimos, asegúrese de tener en cuenta el elemento más largo.\n",
    "\n",
    "Para establecer la alineación, utilice el carácter `<` para alinear a la izquierda, `^` para el centro, `>` para la derecha. <br>\n",
    "Para configurar el relleno, preceda el carácter de alineación con el carácter de relleno (`-` y` .` son opciones comunes).\n",
    "\n",
    "Hagamos algunos ajustes:"
   ]
  },
  {
   "cell_type": "code",
   "execution_count": null,
   "metadata": {},
   "outputs": [],
   "source": []
  },
  {
   "cell_type": "markdown",
   "metadata": {},
   "source": [
    "### Formato de fecha"
   ]
  },
  {
   "cell_type": "code",
   "execution_count": null,
   "metadata": {},
   "outputs": [],
   "source": []
  },
  {
   "cell_type": "markdown",
   "metadata": {},
   "source": [
    "Para mayor información: https://docs.python.org/3/reference/lexical_analysis.html#f-strings\n",
    "\n",
    "***"
   ]
  },
  {
   "cell_type": "markdown",
   "metadata": {},
   "source": [
    "# Archivos\n",
    "\n",
    "Python usa objetos de archivo para interactuar con archivos externos en su computadora. Estos objetos de archivo pueden ser cualquier tipo de archivo que tenga en su computadora, ya sea un archivo de audio, un archivo de texto, correos electrónicos, documentos de Excel, etc. Nota: Probablemente necesitará instalar ciertas bibliotecas o módulos para interactuar con esas diversas tipos de archivos, pero están fácilmente disponibles. \n",
    "\n",
    "Python tiene una función de apertura incorporada que nos permite abrir y jugar con tipos de archivos básicos. Sin embargo, primero necesitaremos un archivo. ¡Usaremos algo de magia de IPython para crear un archivo de texto!\n",
    "\n",
    "## Creación de un archivo con IPython\n",
    "#### ¡Esta función es específica de los cuadernos jupyter! Una manera alternativa es crear rápidamente un archivo .txt simple con algún editor de texto."
   ]
  },
  {
   "cell_type": "code",
   "execution_count": null,
   "metadata": {},
   "outputs": [],
   "source": []
  },
  {
   "cell_type": "markdown",
   "metadata": {},
   "source": [
    "## Abriendo un archivo en Python\n",
    "\n",
    "### Hay que conocer la ubicación de nuestro archivo\n",
    "\n",
    "Es fácil obtener un error en este paso:"
   ]
  },
  {
   "cell_type": "code",
   "execution_count": null,
   "metadata": {},
   "outputs": [],
   "source": []
  },
  {
   "cell_type": "markdown",
   "metadata": {},
   "source": [
    "Para evitar este error, asegúrese de que su archivo .txt esté guardado en la misma ubicación que su computadora portátil. Para verificar la ubicación de su computadora portátil, use ** pwd **:"
   ]
  },
  {
   "cell_type": "code",
   "execution_count": null,
   "metadata": {},
   "outputs": [],
   "source": []
  },
  {
   "cell_type": "markdown",
   "metadata": {},
   "source": [
    "**Alternativamente, para tomar archivos de cualquier ubicación en su computadora, simplemente pase la ruta completa del archivo.**\n",
    "\n",
    "Para Windows, debe usar doble \\ para que Python no trate el segundo \\ como un carácter de escape, una ruta de archivo tiene la forma:\n",
    "\n",
    "    myfile = open(\"C:\\\\Users\\\\YourUserName\\\\Home\\\\Folder\\\\myfile.txt\")\n",
    "\n",
    "Para MacOS y Linux hay que usar las diagonales invertidas:\n",
    "\n",
    "    myfile = open(\"/Users/YourUserName/Folder/myfile.txt\")"
   ]
  },
  {
   "cell_type": "code",
   "execution_count": null,
   "metadata": {},
   "outputs": [],
   "source": []
  },
  {
   "cell_type": "code",
   "execution_count": null,
   "metadata": {},
   "outputs": [],
   "source": []
  },
  {
   "cell_type": "markdown",
   "metadata": {},
   "source": [
    "`my_file` es ahora un objeto de archivo abierto almacenado en la memoria. Realizaremos algunos ejercicios de lectura y escritura, y luego tendremos que cerrar el archivo para liberar memoria.\n",
    "\n",
    "### .read() y .seek()"
   ]
  },
  {
   "cell_type": "code",
   "execution_count": null,
   "metadata": {},
   "outputs": [],
   "source": []
  },
  {
   "cell_type": "code",
   "execution_count": null,
   "metadata": {},
   "outputs": [],
   "source": []
  },
  {
   "cell_type": "markdown",
   "metadata": {},
   "source": [
    "Esto sucede porque puedes imaginar que el \"cursor\" de lectura está al final del archivo después de haberlo leído. Entonces no queda nada por leer. Podemos restablecer el \"cursor\" así:"
   ]
  },
  {
   "cell_type": "code",
   "execution_count": null,
   "metadata": {},
   "outputs": [],
   "source": []
  },
  {
   "cell_type": "code",
   "execution_count": null,
   "metadata": {},
   "outputs": [],
   "source": []
  },
  {
   "cell_type": "markdown",
   "metadata": {},
   "source": [
    "### .readlines()\n",
    "Puede leer un archivo línea por línea utilizando el método readlines. Tenga cuidado con los archivos grandes, ya que todo se guardará en la memoria. Aprenderemos cómo iterar sobre archivos grandes más adelante en el curso."
   ]
  },
  {
   "cell_type": "code",
   "execution_count": null,
   "metadata": {},
   "outputs": [],
   "source": []
  },
  {
   "cell_type": "markdown",
   "metadata": {},
   "source": [
    "Cuando haya terminado de usar un archivo, siempre es una buena práctica cerrarlo."
   ]
  },
  {
   "cell_type": "code",
   "execution_count": 16,
   "metadata": {},
   "outputs": [],
   "source": []
  },
  {
   "cell_type": "markdown",
   "metadata": {},
   "source": [
    "## Escribir en un archivo\n",
    "\n",
    "Por defecto, la función `open ()` solo nos permitirá leer el archivo. Necesitamos pasar el argumento `'w'` para escribir sobre el archivo. Por ejemplo:"
   ]
  },
  {
   "cell_type": "code",
   "execution_count": null,
   "metadata": {},
   "outputs": [],
   "source": []
  },
  {
   "cell_type": "markdown",
   "metadata": {},
   "source": [
    "<div class=\"alert alert-danger\" style=\"margin: 20px\">**Cuidado!**<br>\n",
    "Abrir un archivo con 'w' o 'w +' * trunca el original *, lo que significa que todo lo que estaba en el archivo original ** se elimina **.</div>"
   ]
  },
  {
   "cell_type": "code",
   "execution_count": null,
   "metadata": {},
   "outputs": [],
   "source": []
  },
  {
   "cell_type": "code",
   "execution_count": null,
   "metadata": {},
   "outputs": [],
   "source": []
  },
  {
   "cell_type": "code",
   "execution_count": null,
   "metadata": {},
   "outputs": [],
   "source": []
  },
  {
   "cell_type": "markdown",
   "metadata": {},
   "source": [
    "## Agregar a un archivo\n",
    "Pasar el argumento `'a'` abre el archivo y coloca el puntero al final, por lo que se agrega todo lo escrito. Como `` 'w +' '', `` 'a +' 'nos permite leer y escribir en un archivo. Si el archivo no existe, se creará uno."
   ]
  },
  {
   "cell_type": "code",
   "execution_count": null,
   "metadata": {},
   "outputs": [],
   "source": []
  },
  {
   "cell_type": "code",
   "execution_count": null,
   "metadata": {},
   "outputs": [],
   "source": []
  },
  {
   "cell_type": "code",
   "execution_count": null,
   "metadata": {},
   "outputs": [],
   "source": []
  },
  {
   "cell_type": "markdown",
   "metadata": {},
   "source": [
    "### Anexando con `%% writefile`\n",
    "Con jupyter notebook también se pueden hacer lo mismo con una celda mágica de IPython:"
   ]
  },
  {
   "cell_type": "code",
   "execution_count": null,
   "metadata": {},
   "outputs": [],
   "source": []
  },
  {
   "cell_type": "markdown",
   "metadata": {},
   "source": [
    "Agregamos un espacio en blanco si desea que la primera línea comience en su propia línea, ya que Jupyter no reconocerá secuencias de escape como `\\ n`"
   ]
  },
  {
   "cell_type": "markdown",
   "metadata": {},
   "source": [
    "## Alias y gestores de contexto\n",
    "Podemos asignar nombres de variables temporales como alias y administrar la apertura y el cierre de archivos automáticamente utilizando un administrador de contexto:"
   ]
  },
  {
   "cell_type": "code",
   "execution_count": null,
   "metadata": {},
   "outputs": [],
   "source": []
  },
  {
   "cell_type": "markdown",
   "metadata": {},
   "source": [
    "Tenga en cuenta que el administrador de contexto `with ... as ...:` cerró automáticamente `test.txt` después de asignar la primera línea de texto a first_line:"
   ]
  },
  {
   "cell_type": "code",
   "execution_count": null,
   "metadata": {},
   "outputs": [],
   "source": []
  },
  {
   "cell_type": "markdown",
   "metadata": {},
   "source": [
    "## Iterar sobre un archivo"
   ]
  },
  {
   "cell_type": "code",
   "execution_count": null,
   "metadata": {},
   "outputs": [],
   "source": []
  },
  {
   "cell_type": "code",
   "execution_count": null,
   "metadata": {},
   "outputs": [],
   "source": []
  }
 ],
 "metadata": {
  "kernelspec": {
   "display_name": "Python 3",
   "language": "python",
   "name": "python3"
  },
  "language_info": {
   "codemirror_mode": {
    "name": "ipython",
    "version": 3
   },
   "file_extension": ".py",
   "mimetype": "text/x-python",
   "name": "python",
   "nbconvert_exporter": "python",
   "pygments_lexer": "ipython3",
   "version": "3.8.5"
  }
 },
 "nbformat": 4,
 "nbformat_minor": 2
}
