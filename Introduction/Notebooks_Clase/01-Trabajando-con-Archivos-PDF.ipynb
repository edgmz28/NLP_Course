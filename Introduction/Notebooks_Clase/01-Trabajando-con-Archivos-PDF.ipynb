{
 "cells": [
  {
   "cell_type": "markdown",
   "metadata": {},
   "source": [
    "<img style=\"float: left;;\" src='Figures/alinco.png' /></a>\n",
    "\n",
    "# Introducción: Trabajando Con Archivos de PDF\n",
    "___"
   ]
  },
  {
   "cell_type": "markdown",
   "metadata": {},
   "source": [
    "A menudo tendremos que lidiar con archivos PDF. Hay [muchas bibliotecas en Python para trabajar con archivos PDF] (https://reachtim.com/articles/PDF-Manipulation.html), cada una con sus ventajas y desventajas, siendo la más común ** PyPDF2 **. Puede instalarlo con (tenga en cuenta la distinción entre mayúsculas y minúsculas, debe asegurarse de que su capitilización coincida):\n",
    "\n",
    "    pip install PyPDF2\n",
    "    \n",
    "Tenga en cuenta que no todos los archivos PDF se pueden leer con esta biblioteca. Los archivos PDF que estén demasiado borrosos, tengan una codificación especial, estén encriptados o que hayan sido creados con un programa en particular que no funcione bien con PyPDF2 no se podrán leer. Si se encuentra en esta situación, intente utilizar las bibliotecas vinculadas anteriormente, pero tenga en cuenta que es posible que tampoco funcionen. La razón de esto es debido a los muchos parámetros diferentes para un PDF y cuán no estándar pueden ser las configuraciones, el texto podría mostrarse como una imagen en lugar de una codificación utf-8. Hay muchos parámetros a considerar en este aspecto.\n",
    "\n",
    "En lo que respecta a PyPDF2, solo puede leer el texto de un documento PDF, no podrá capturar imágenes u otros archivos multimedia de un PDF.\n",
    "___\n",
    "\n",
    "## Trabajando con PyPDF2\n",
    "\n",
    "Comencemos mostrando los conceptos básicos de la biblioteca PyPDF2."
   ]
  },
  {
   "cell_type": "code",
   "execution_count": 1,
   "metadata": {},
   "outputs": [],
   "source": [
    "#pip install PyPDF2"
   ]
  },
  {
   "cell_type": "code",
   "execution_count": 1,
   "metadata": {},
   "outputs": [],
   "source": [
    "# note the capitalization\n"
   ]
  },
  {
   "cell_type": "markdown",
   "metadata": {},
   "source": [
    "## Reading PDFs\n",
    "\n",
    "First we open a pdf, then create a reader object for it. Notice how we use the binary method of reading , 'rb', instead of just 'r'."
   ]
  },
  {
   "cell_type": "code",
   "execution_count": null,
   "metadata": {},
   "outputs": [],
   "source": []
  },
  {
   "cell_type": "code",
   "execution_count": null,
   "metadata": {},
   "outputs": [],
   "source": []
  },
  {
   "cell_type": "code",
   "execution_count": null,
   "metadata": {},
   "outputs": [],
   "source": []
  },
  {
   "cell_type": "code",
   "execution_count": null,
   "metadata": {},
   "outputs": [],
   "source": []
  },
  {
   "cell_type": "markdown",
   "metadata": {},
   "source": [
    "Podemos extraer el texto:"
   ]
  },
  {
   "cell_type": "code",
   "execution_count": null,
   "metadata": {},
   "outputs": [],
   "source": []
  },
  {
   "cell_type": "code",
   "execution_count": null,
   "metadata": {},
   "outputs": [],
   "source": []
  },
  {
   "cell_type": "code",
   "execution_count": null,
   "metadata": {},
   "outputs": [],
   "source": []
  },
  {
   "cell_type": "markdown",
   "metadata": {},
   "source": [
    "## Añadir a PDFs\n",
    "\n",
    "No podemos escribir en archivos PDF con Python debido a las diferencias entre el tipo de cadena única de Python y la variedad de fuentes, ubicaciones y otros parámetros que podría tener un PDF.\n",
    "\n",
    "Lo que * podemos * hacer es copiar páginas y agregar páginas al final."
   ]
  },
  {
   "cell_type": "code",
   "execution_count": null,
   "metadata": {},
   "outputs": [],
   "source": []
  },
  {
   "cell_type": "code",
   "execution_count": null,
   "metadata": {},
   "outputs": [],
   "source": []
  },
  {
   "cell_type": "code",
   "execution_count": null,
   "metadata": {},
   "outputs": [],
   "source": []
  },
  {
   "cell_type": "code",
   "execution_count": null,
   "metadata": {},
   "outputs": [],
   "source": []
  },
  {
   "cell_type": "code",
   "execution_count": null,
   "metadata": {},
   "outputs": [],
   "source": []
  },
  {
   "cell_type": "code",
   "execution_count": null,
   "metadata": {},
   "outputs": [],
   "source": []
  },
  {
   "cell_type": "code",
   "execution_count": null,
   "metadata": {},
   "outputs": [],
   "source": []
  },
  {
   "cell_type": "markdown",
   "metadata": {},
   "source": [
    "Ahora ya copiamos una página y además añadimos otra a un nuevo documento!"
   ]
  },
  {
   "cell_type": "markdown",
   "metadata": {},
   "source": [
    "___"
   ]
  },
  {
   "cell_type": "markdown",
   "metadata": {},
   "source": [
    "## Ejemplo Simple\n",
    "\n",
    "Intentemos tomar todo el texto de este archivo PDF:"
   ]
  },
  {
   "cell_type": "code",
   "execution_count": null,
   "metadata": {},
   "outputs": [],
   "source": []
  },
  {
   "cell_type": "code",
   "execution_count": null,
   "metadata": {},
   "outputs": [],
   "source": []
  },
  {
   "cell_type": "code",
   "execution_count": null,
   "metadata": {},
   "outputs": [],
   "source": []
  },
  {
   "cell_type": "code",
   "execution_count": null,
   "metadata": {},
   "outputs": [],
   "source": []
  }
 ],
 "metadata": {
  "kernelspec": {
   "display_name": "Python 3",
   "language": "python",
   "name": "python3"
  },
  "language_info": {
   "codemirror_mode": {
    "name": "ipython",
    "version": 3
   },
   "file_extension": ".py",
   "mimetype": "text/x-python",
   "name": "python",
   "nbconvert_exporter": "python",
   "pygments_lexer": "ipython3",
   "version": "3.8.5"
  }
 },
 "nbformat": 4,
 "nbformat_minor": 2
}
