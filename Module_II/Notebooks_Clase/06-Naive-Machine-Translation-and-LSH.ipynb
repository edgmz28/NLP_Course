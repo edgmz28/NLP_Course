{
 "cells": [
  {
   "cell_type": "markdown",
   "metadata": {},
   "source": [
    "<img style=\"float: left;;\" src='Figures/alinco.png' /></a>\n",
    "\n",
    "# Modulo II: Traducción automática y Local Sensitive Hashing (LSH)"
   ]
  },
  {
   "cell_type": "markdown",
   "metadata": {},
   "source": [
    "\n",
    "Ahora implementaremos un sistema de traducción automática y luego\n",
    "veremos cómo funcionan las funciones hash. Empecemos importando\n",
    "las funciones requeridas!\n",
    "\n",
    "\n",
    "```\n",
    "nltk.download('stopwords')\n",
    "nltk.download('twitter_samples')\n",
    "```"
   ]
  },
  {
   "cell_type": "code",
   "execution_count": 1,
   "metadata": {},
   "outputs": [],
   "source": [
    "# importar las librerías"
   ]
  },
  {
   "cell_type": "markdown",
   "metadata": {},
   "source": [
    "\n",
    "# Embeddings para palabras en Inglés y Frances\n",
    "\n",
    "Escribe un programa que traduzca del inglés al francés.\n",
    "\n",
    "## Los datos\n",
    "\n",
    "El conjunto de datos completo para las wordembeddings en inglés es de aproximadamente 3,64 gigabytes, y el francés\n",
    "son de aproximadamente 629 megabytes. Trabajaremos con un conjunto más pequeño de datos, una muestra significativa.\n"
   ]
  },
  {
   "cell_type": "markdown",
   "metadata": {},
   "source": [
    "#### Subconjunto de los datos\n",
    "\n",
    "\n"
   ]
  },
  {
   "cell_type": "code",
   "execution_count": null,
   "metadata": {},
   "outputs": [],
   "source": []
  },
  {
   "cell_type": "markdown",
   "metadata": {},
   "source": [
    "#### Cargue dos diccionarios que mapean las palabras del inglés al francés\n",
    "* Un diccionario de entrenamiento\n",
    "* y un diccionario de prueba."
   ]
  },
  {
   "cell_type": "code",
   "execution_count": null,
   "metadata": {},
   "outputs": [],
   "source": []
  },
  {
   "cell_type": "markdown",
   "metadata": {},
   "source": [
    "#### Viendo los diccionarios de Inglés y Francés\n",
    "\n",
    "* `en_fr_train` es un diccionario donde el key es la palabra en inglés y el valor es la palabra en francés.\n",
    "```\n",
    "{'the': 'la',\n",
    " 'and': 'et',\n",
    " 'was': 'était',\n",
    " 'for': 'pour',\n",
    "```\n",
    "\n",
    "* `en_fr_test` es similar que `en_fr_train`, pero este es un conjunto de prueba. "
   ]
  },
  {
   "cell_type": "markdown",
   "metadata": {},
   "source": [
    "## Generando matrices de embeddings y transformación\n",
    "\n",
    "####  Traducción de diccionario de inglés a francés mediante embeddings\n",
    "\n",
    "Implementaremos la función `get_matrices`, que toma los datos cargados y retorna las matrices `X` y `Y`.\n",
    "\n",
    "Entrada:\n",
    "- `en_fr` : diccionario del Inglés a Francés\n",
    "- `en_embeddings` : embeddings de palabras en inglés\n",
    "- `fr_embeddings` : embeddings de palabras en Francés\n",
    "\n",
    "Retorna:\n",
    "- matrices `X` y `Y`, donde cada renglón en X es la palabra embebida para una plabra en inglés, y lo mismo con Y es la palabra embebida en francés.\n",
    "\n",
    "<div style=\"width:image width px; font-size:100%; text-align:center;\">\n",
    "<img src='Figures/X_to_Y.jpg' alt=\"alternate text\" width=\"width\" height=\"height\" style=\"width:800px;height:200px;\" /> Figure 2 </div>\n",
    "\n",
    "Utilice el diccionario `en_fr` para asegurarse de que la i-ésima fila de la matriz` X`\n",
    "corresponde a la i-ésima fila de la matriz \"Y\".\n"
   ]
  },
  {
   "cell_type": "code",
   "execution_count": null,
   "metadata": {},
   "outputs": [],
   "source": []
  },
  {
   "cell_type": "markdown",
   "metadata": {},
   "source": [
    "Ahora usaremos la función `get_matrices ()` para obtener los conjuntos `X_train` e` Y_train`\n",
    "de los embeddings de palabras en inglés y francés.\n"
   ]
  },
  {
   "cell_type": "code",
   "execution_count": null,
   "metadata": {},
   "outputs": [],
   "source": []
  },
  {
   "cell_type": "markdown",
   "metadata": {},
   "source": [
    "\n",
    "# Traductores\n",
    "\n",
    "<div style=\"width:image width px; font-size:100%; text-align:center;\"><img src='Figures/e_to_f.jpg' alt=\"alternate text\" width=\"width\" height=\"height\" style=\"width:700px;height:200px;\" />  </div>\n",
    "\n",
    "Escriba un programa que traduzca palabras del inglés al francés utilizando word embeddings y modelos de espacio vectorial.\n",
    "\n",
    "\n",
    "##  Traducción como transformación lineal de embeddings\n",
    "Dados los diccionarios de embeddings de palabras en inglés y francés, crearemos una matriz de transformación `R`\n",
    "* Dada una palabra incrustada en inglés, $ \\mathbf {e} $, puede multiplicar $ \\mathbf {eR} $ para obtener una nueva palabra incrustada $ \\mathbf {f} $.\n",
    "\n",
    "    \n",
    "* A continuación, puede calcular los vecinos más cercanos a `f` en los embeddings francesas y recomendar la palabra que es más similar a los embeddings de palabras transformadas."
   ]
  },
  {
   "cell_type": "markdown",
   "metadata": {},
   "source": [
    "### Describir la traducción como el problema de minimización\n",
    "\n",
    "Encuentre una matriz `R` que minimice la siguiente ecuación.\n",
    "\n",
    "$$\\arg \\min _{\\mathbf{R}}\\| \\mathbf{X R} - \\mathbf{Y}\\|_{F}\\tag{1} $$\n",
    "\n",
    "### Norma de Frobenius\n",
    "\n",
    "La norma de Frobenius de una matriz $ A $ (asumiendo que es de dimensión $ m, n $) se define como la raíz cuadrada de la suma de los cuadrados absolutos de sus elementos:\n",
    "\n",
    "$$\\|\\mathbf{A}\\|_{F} \\equiv \\sqrt{\\sum_{i=1}^{m} \\sum_{j=1}^{n}\\left|a_{i j}\\right|^{2}}\\tag{2}$$"
   ]
  },
  {
   "cell_type": "markdown",
   "metadata": {},
   "source": [
    "### Función de perdida\n",
    "\n",
    "En las aplicaciones del mundo real, la pérdida de la norma Frobenius:\n",
    "\n",
    "$$\\| \\mathbf{XR} - \\mathbf{Y}\\|_{F}$$\n",
    "\n",
    "a menudo se reemplaza por su valor al cuadrado dividido por $ m $:\n",
    "\n",
    "$$ \\frac{1}{m} \\|  \\mathbf{X R} - \\mathbf{Y} \\|_{F}^{2}$$\n",
    "\n",
    "donde $ m $ es el número de ejemplos (filas en $ \\ mathbf {X} $).\n",
    "\n",
    "* Se encuentra la misma R cuando se usa esta función de pérdida en comparación con la norma de Frobenius original.\n",
    "* La razón para tomar el cuadrado es que es más fácil calcular el gradiente del Frobenius al cuadrado.\n",
    "* La razón para dividir entre $ m $ es que estamos más interesados en la pérdida promedio por inserción que en la pérdida de todo el conjunto de entrenamiento.\n",
    "     * La pérdida de todo el conjunto de entrenamiento aumenta con más palabras (ejemplos de entrenamiento),\n",
    "     por lo que tomar el promedio nos ayuda a rastrear la pérdida promedio independientemente del tamaño del conjunto de entrenamiento.\n"
   ]
  },
  {
   "cell_type": "markdown",
   "metadata": {},
   "source": [
    "\n",
    "### Implementación del mecanismo de traducción\n",
    "\n",
    "#### Calculando el loss\n",
    "* La función de pérdida será la norma de Frobenoius al cuadrado de la diferencia entre\n",
    "matriz y su aproximación, dividida por el número de ejemplos de entrenamiento $ m $.\n",
    "* Su fórmula es:\n",
    "$$ L(X, Y, R)=\\frac{1}{m}\\sum_{i=1}^{m} \\sum_{j=1}^{n}\\left( a_{i j} \\right)^{2}$$\n",
    "\n",
    "donde $a_{i j}$ es el valo de la $i$-ésimo renglón y $j$-ésima columna de la matriz $\\mathbf{XR}-\\mathbf{Y}$."
   ]
  },
  {
   "cell_type": "markdown",
   "metadata": {},
   "source": [
    "* Calcular la aproximación de `Y` mediante la matriz multiplicando` X` y `R`\n",
    "* Calcular la diferencia `XR - Y`\n",
    "* Calcular la norma de Frobenius al cuadrado de la diferencia y divídala por $ m $."
   ]
  },
  {
   "cell_type": "code",
   "execution_count": null,
   "metadata": {},
   "outputs": [],
   "source": []
  },
  {
   "cell_type": "markdown",
   "metadata": {},
   "source": [
    "\n",
    "### Calculando el gradiente de la función loss con respecto a la matriz de transforación R\n",
    "\n",
    "* Calcular el gradiente de la pérdida con respecto a la matriz de transformación \"R\".\n",
    "* El gradiente nos da la dirección en la que debemos disminuir `R`\n",
    "para minimizar la pérdida.\n",
    "* $ m $ es el número de ejemplos de entrenamiento (número de filas en $ X $).\n",
    "* La fórmula para el gradiente de la función de pérdida $ 𝐿 (𝑋, 𝑌, 𝑅) $ es:\n",
    "\n",
    "$$\\frac{d}{dR}𝐿(𝑋,𝑌,𝑅)=\\frac{d}{dR}\\Big(\\frac{1}{m}\\| X R -Y\\|_{F}^{2}\\Big) = \\frac{2}{m}X^{T} (X R - Y)$$\n",
    "\n"
   ]
  },
  {
   "cell_type": "code",
   "execution_count": null,
   "metadata": {},
   "outputs": [],
   "source": []
  },
  {
   "cell_type": "markdown",
   "metadata": {},
   "source": [
    "### Encontrar la R óptima con el algoritmo de descenso de gradiente\n",
    "\n",
    "#### Gradient descent\n"
   ]
  },
  {
   "cell_type": "markdown",
   "metadata": {},
   "source": [
    "Pseudocódigo:\n",
    "1. Calcular el gradiente $g$ del loss con respecto a la matriz $R$.\n",
    "2. Update $R$ con la formula:\n",
    "$$R_{\\text{new}}= R_{\\text{old}}-\\alpha g$$\n",
    "\n",
    "Donde $\\alpha$ es el learning rate, que es un escalar."
   ]
  },
  {
   "cell_type": "markdown",
   "metadata": {},
   "source": [
    "#### Learning rate\n",
    "\n",
    "* La tasa de aprendizaje o \"tamaño de paso\" $ \\ alpha $ es un coeficiente que decide cuánto queremos cambiar $ R $ en cada paso.\n",
    "* Si cambiamos $ R $ demasiado, podríamos saltarnos el óptimo dando un paso demasiado grande.\n",
    "* Si solo hacemos pequeños cambios en $ R $, necesitaremos muchos pasos para alcanzar el óptimo.\n",
    "* La tasa de aprendizaje $ \\ alpha $ se usa para controlar esos cambios.\n",
    "* Los valores de $ \\ alpha $ se eligen dependiendo del problema, y usaremos `learning_rate` $ = 0.0003 $ como valor predeterminado para nuestro algoritmo."
   ]
  },
  {
   "cell_type": "code",
   "execution_count": null,
   "metadata": {},
   "outputs": [],
   "source": []
  },
  {
   "cell_type": "code",
   "execution_count": null,
   "metadata": {},
   "outputs": [],
   "source": []
  },
  {
   "cell_type": "markdown",
   "metadata": {},
   "source": [
    "## Clacular la matriz de transformación R\n"
   ]
  },
  {
   "cell_type": "code",
   "execution_count": null,
   "metadata": {},
   "outputs": [],
   "source": []
  },
  {
   "cell_type": "markdown",
   "metadata": {},
   "source": [
    "\n",
    "## Probando el traductor\n",
    "\n",
    "### Algoritmo k-Nearest neighbors \n",
    "\n",
    "[k-Nearest neighbors algorithm](https://en.wikipedia.org/wiki/K-nearest_neighbors_algorithm) \n",
    "* k-NN es un método que toma un vector como entrada y encuentra los otros vectores en el conjunto de datos que están más cerca de él.\n",
    "* La 'k' es el número de \"vecinos más cercanos\" a encontrar (por ejemplo, k = 2 encuentra los dos vecinos más cercanos).\n",
    "\n",
    "### Buscando el embedding de la traducción \n",
    "Dado que estamos aproximando la función de traducción de los embeddings de inglés a francés mediante una matriz de transformación lineal $ \\mathbf {R} $, la mayoría de las veces no obtendremos la incrustación exacta de una palabra francesa cuando transformamos los embeddings $ \\mathbf { e} $ de alguna palabra en inglés en particular en el espacio de embeddings francés.\n",
    "* ¡Aquí es donde $ k $ -NN se vuelve realmente útil! Al usar $ 1 $ -NN con $ \\mathbf {eR} $ como entrada, podemos buscar un embedding $ \\mathbf {f} $ (como una fila) en la matriz $ \\mathbf {Y} $ que es la más cercana a el vector transformado $ \\mathbf {eR} $"
   ]
  },
  {
   "cell_type": "markdown",
   "metadata": {},
   "source": [
    "### Similaridad por  Coseno\n",
    "Similitud de coseno entre los vectores $ u $ y $ v $ calculada como el coseno del ángulo entre ellos.\n",
    "La formula es\n",
    "$$\\cos(u,v)=\\frac{u\\cdot v}{\\left\\|u\\right\\|\\left\\|v\\right\\|}$$\n",
    "\n",
    "* $\\cos(u,v)$ = $1$ cuando $u$ y $v$ se encuentran en la misma línea y tienen la misma dirección.\n",
    "* $\\cos(u,v)$ es $-1$ Cuando ellas tienen direcciones exactamente opuestas.\n",
    "* $\\cos(u,v)$ es $0$ cuando los vectores son ortogonales (perpendiculares) entre sí."
   ]
  },
  {
   "cell_type": "markdown",
   "metadata": {},
   "source": [
    "#### Nota: La distancia y la similitud son cosas bastante opuestas.\n",
    "* Podemos obtener la métrica de la distancia a partir de la similitud del coseno, pero la similitud del coseno no se puede usar directamente como la métrica de la distancia.\n",
    "* Cuando la similitud del coseno aumenta (hacia $ 1 $), la \"distancia\" entre los dos vectores disminuye (hacia $ 0 $).\n",
    "* Podemos definir la distancia del coseno entre $ u $ y $ v $ como\n",
    "$$ d_{\\text {cos}} (u, v) = 1- \\cos(u, v) $$"
   ]
  },
  {
   "cell_type": "markdown",
   "metadata": {},
   "source": [
    "Completando la función `nearest_neighbor()`:\n",
    "\n"
   ]
  },
  {
   "cell_type": "code",
   "execution_count": null,
   "metadata": {},
   "outputs": [],
   "source": []
  },
  {
   "cell_type": "code",
   "execution_count": null,
   "metadata": {},
   "outputs": [],
   "source": []
  },
  {
   "cell_type": "markdown",
   "metadata": {},
   "source": [
    "### Test your translation and compute its accuracy\n",
    "\n",
    "* Calculando el accuracy como $$\\text{accuracy}=\\frac{\\#(\\text{correct predictions})}{\\#(\\text{total predictions})}$$"
   ]
  },
  {
   "cell_type": "code",
   "execution_count": null,
   "metadata": {},
   "outputs": [],
   "source": []
  },
  {
   "cell_type": "code",
   "execution_count": null,
   "metadata": {},
   "outputs": [],
   "source": []
  },
  {
   "cell_type": "code",
   "execution_count": null,
   "metadata": {},
   "outputs": [],
   "source": []
  },
  {
   "cell_type": "markdown",
   "metadata": {},
   "source": [
    "\n",
    "# LSH y búsqueda de documentos\n",
    "\n",
    "* Procesar los tweets y representar cada tweet como un vector (representar un\n",
    "documento con un embedding vector).\n",
    "* Utilice hashing y k vecinos más cercanos para encontrar tweets\n",
    "que son similares a un tweet determinado.\n"
   ]
  },
  {
   "cell_type": "code",
   "execution_count": null,
   "metadata": {},
   "outputs": [],
   "source": []
  },
  {
   "cell_type": "markdown",
   "metadata": {},
   "source": [
    "\n",
    "###  Obteniendo los embeddings de los documentos\n",
    "\n",
    "#### Modelo de Bag-of-words (BOW) \n",
    "\n",
    "Los documentos de texto son secuencias de palabras.\n",
    "* El orden de las palabras marca la diferencia. Por ejemplo, las frases \"La tarta de manzana es mejor que la pizza de pepperoni \"y\" La pizza de pepperoni es mejor que la tarta de manzana \"\n",
    "tienen significados opuestos debido al orden de las palabras.\n",
    "* Sin embargo, para algunas aplicaciones, ignorar el orden de las palabras puede permitir\n",
    "nosotros para formar un modelo eficiente y aún eficaz.\n",
    "* Este enfoque se denomina modelo de documento de bolsa de palabras.\n"
   ]
  },
  {
   "cell_type": "code",
   "execution_count": null,
   "metadata": {},
   "outputs": [],
   "source": []
  },
  {
   "cell_type": "code",
   "execution_count": null,
   "metadata": {},
   "outputs": [],
   "source": []
  },
  {
   "cell_type": "markdown",
   "metadata": {},
   "source": [
    "\n",
    "#### Guardar los vectores de documento en un diccionario\n"
   ]
  },
  {
   "cell_type": "code",
   "execution_count": null,
   "metadata": {},
   "outputs": [],
   "source": []
  },
  {
   "cell_type": "code",
   "execution_count": null,
   "metadata": {},
   "outputs": [],
   "source": []
  },
  {
   "cell_type": "markdown",
   "metadata": {},
   "source": [
    "\n",
    "## Buscando los tweets\n",
    "\n",
    "Ahora tenemos un vector de dimensión (m, d) donde `m` es el número de tweets\n",
    "(10,000) y `d` es la dimensión de los embeddings (300). "
   ]
  },
  {
   "cell_type": "code",
   "execution_count": 33,
   "metadata": {},
   "outputs": [],
   "source": []
  },
  {
   "cell_type": "code",
   "execution_count": null,
   "metadata": {},
   "outputs": [],
   "source": []
  },
  {
   "cell_type": "markdown",
   "metadata": {},
   "source": [
    "<a name=\"3-3\"></a>\n",
    "\n",
    "## Buscando los tweets más similares con LSH\n",
    "\n",
    "Ahora implementaremos el hashing (LSH) para identificar el tweet más similar.\n",
    "* En lugar de mirar los 10,000 vectores, puede buscar un subconjunto para encontrar\n",
    "sus vecinos más cercanos.\n",
    "\n",
    "\n",
    "<div style=\"width:image width px; font-size:100%; text-align:center;\"><img src='Figures/one.png' alt=\"alternate text\" width=\"width\" height=\"height\" style=\"width:400px;height:200px;\" /> Figure 3 </div>\n",
    "\n",
    "Puede dividir el espacio vectorial en regiones y buscar dentro de una región los vecinos más cercanos de un vector dado.\n",
    "\n",
    "<div style=\"width:image width px; font-size:100%; text-align:center;\"><img src='Figures/four.png' alt=\"alternate text\" width=\"width\" height=\"height\" style=\"width:400px;height:200px;\" /> Figure 4 </div>"
   ]
  },
  {
   "cell_type": "code",
   "execution_count": null,
   "metadata": {},
   "outputs": [],
   "source": []
  },
  {
   "cell_type": "markdown",
   "metadata": {},
   "source": [
    "#### Escogiendo los número de planos\n",
    "\n",
    "* Cada plano divide el espacio en $ 2 $ partes.\n",
    "* Entonces $ n $ aviones dividen el espacio en $ 2 ^ {n} $ cubos de hash.\n",
    "* Queremos organizar 10,000 vectores de documentos en depósitos para que cada depósito tenga vectores de $ ~ 16 $.\n",
    "* Para eso necesitamos $ \\frac {10000} {16} = 625 $ cubos.\n",
    "* Estamos interesados en $ n $, número de aviones, por lo que $ 2 ^ {n} = 625 $. Ahora, podemos calcular $ n = \\log_{2} 625 = 9.29 \\approx 10 $."
   ]
  },
  {
   "cell_type": "code",
   "execution_count": null,
   "metadata": {},
   "outputs": [],
   "source": []
  },
  {
   "cell_type": "markdown",
   "metadata": {},
   "source": [
    "\n",
    "## Obteniendo el número para el vector hash\n",
    "\n",
    "Para cada vector, necesitamos obtener un número único asociado a ese vector para poder asignarlo a un \"bucket de hash\".\n",
    "\n",
    "### Hyperlanes in vector spaces\n",
    "* En un espacio vectorial dimensional de $ 3 $, el hiperplano es un plano regular. En el espacio vectorial dimensional de $ 2 $, el hiperplano es una línea.\n",
    "* Generalmente, el hiperplano es un subespacio que tiene una dimensión $ 1 $ menor que la del espacio vectorial original.\n",
    "* Un hiperplano se define de forma única por su vector normal.\n",
    "* El vector normal $ n $ del plano $ \\ pi $ es el vector al que todos los vectores en el plano $ \\ pi $ son ortogonales (perpendiculares en el caso dimensional de $ 3 $).\n",
    "\n",
    "### Usando Hiperplanos para cortar el espacio vectorial\n",
    "\n",
    "Podemos usar un hiperplano para dividir el espacio vectorial en $ 2 $ partes.\n",
    "* Todos los vectores cuyo producto escalar con el vector normal de un plano es positivo están en un lado del plano.\n",
    "* Todos los vectores cuyo producto escalar con el vector normal del plano es negativo están en el otro lado del plano.\n",
    "\n",
    "### Encodeando los buckets hash\n",
    "* Para un vector, podemos tomar su producto escalar con todos los planos, luego codificar esta información para asignar el vector a un solo cubo hash.\n",
    "* Cuando el vector apunta al lado opuesto del hiperplano de lo normal, codifíquelo con 0.\n",
    "* De lo contrario, si el vector está en el mismo lado que el vector normal, codifíquelo por 1.\n",
    "* Si calcula el producto escalar con cada plano en el mismo orden para cada vector, ha codificado el ID de hash único de cada vector como un número binario, como [0, 1, 1, ... 0]."
   ]
  },
  {
   "cell_type": "markdown",
   "metadata": {},
   "source": [
    "### Implementando los hash buckets\n",
    "\n",
    "Inicializamos los hash de la tabla. Es una lista de matrices `N_UNIVERSES`, cada una describe su propia tabla hash. Cada matriz tiene filas `N_DIMS` y columnas` N_PLANES`. Cada columna de esa matriz es un vector normal dimensional `N_DIMS` para cada uno de los hiperplanos` N_PLANES` que se utilizan para crear cubos de la tabla hash particular.\n",
    "\n",
    "* Primero multiplica tu vector `v`, con un plano correspondiente. Esto le dará un vector de dimensión $ (1, \\text{N_planes}) $.\n",
    "* Luego, convertirá todos los elementos de ese vector en 0 o 1.\n",
    "* Creas un vector hash haciendo lo siguiente: si el elemento es negativo, se convierte en un 0; de lo contrario, lo cambias a un 1.\n",
    "* Luego calcula el número único para el vector iterando sobre `N_PLANES`\n",
    "* Luego multiplica $ 2^i $ por el bit correspondiente (0 o 1).\n",
    "* Luego almacenará esa suma en la variable `hash_value`.\n",
    "\n",
    "Cree un hash para el vector en la siguiente función.\n",
    "Utilice esta fórmula:\n",
    "\n",
    "$$ hash = \\sum_{i=0}^{N-1} \\left( 2^{i} \\times h_{i} \\right) $$"
   ]
  },
  {
   "cell_type": "markdown",
   "metadata": {},
   "source": [
    "#### Crea los conjuntos de planos\n",
    "* Cree múltiples (25) conjuntos de planos (los planos que dividen la región).\n",
    "* Puede pensar en estos como 25 formas distintas de dividir el espacio vectorial con un conjunto diferente de planos.\n",
    "* Cada elemento de esta lista contiene una matriz con 300 filas (la palabra vector tiene 300 dimensiones) y 10 columnas (hay 10 planos en cada \"universo\")."
   ]
  },
  {
   "cell_type": "code",
   "execution_count": null,
   "metadata": {},
   "outputs": [],
   "source": []
  },
  {
   "cell_type": "code",
   "execution_count": null,
   "metadata": {},
   "outputs": [],
   "source": []
  },
  {
   "cell_type": "code",
   "execution_count": null,
   "metadata": {},
   "outputs": [],
   "source": []
  },
  {
   "cell_type": "markdown",
   "metadata": {},
   "source": [
    "\n",
    "\n",
    "## Creando la Tabla Hash\n",
    "\n",
    "Dado que ya tenemos una representación para cada vector (o tweet), ahora crearemos una tabla hash. Necesitamos una tabla hash, de modo que, dado un hash_id, pueda buscar rápidamente los vectores correspondientes. Esto le permite reducir su búsqueda por una cantidad de tiempo significativa.\n",
    "\n",
    "<div style=\"width:image width px; font-size:100%; text-align:center;\"><img src='Figures/table.png' alt=\"alternate text\" width=\"width\" height=\"height\" style=\"width:500px;height:200px;\" />  </div>\n"
   ]
  },
  {
   "cell_type": "code",
   "execution_count": null,
   "metadata": {},
   "outputs": [],
   "source": []
  },
  {
   "cell_type": "code",
   "execution_count": null,
   "metadata": {},
   "outputs": [],
   "source": []
  },
  {
   "cell_type": "markdown",
   "metadata": {},
   "source": [
    "\n",
    "### Creando todas las tablas hash \n",
    "\n"
   ]
  },
  {
   "cell_type": "code",
   "execution_count": null,
   "metadata": {},
   "outputs": [],
   "source": []
  },
  {
   "cell_type": "markdown",
   "metadata": {},
   "source": [
    "### Approximate K-NN\n",
    "\n",
    "\n",
    "Implementar aproximadamente K vecinos más cercanos utilizando hash sensible a la localidad,\n",
    "para buscar documentos que sean similares a un documento dado en el\n",
    "índice `doc_id`.\n",
    "\n",
    "##### entradas\n",
    "* `doc_id` es el índice de la lista de documentos` all_tweets`.\n",
    "* `v` es el vector de documento para el tweet en` all_tweets` en el índice `doc_id`.\n",
    "* `planes_l` es la lista de planos (la variable global creada anteriormente).\n",
    "* `k` es el número de vecinos más cercanos a buscar.\n",
    "* `num_universes_to_use`: para ahorrar tiempo, podemos usar menos que el total\n",
    "número de universos disponibles. De forma predeterminada, está configurado en `N_UNIVERSES`,\n",
    "que es $ 25 $ para esta asignación.\n",
    "\n",
    "La función `approx_knn` encuentra un subconjunto de vectores candidatos que\n",
    "están en el mismo \"depósito de hash\" que el vector de entrada 'v'. Entonces se realiza\n",
    "los k vecinos más cercanos habituales buscan en este subconjunto (en lugar de buscar\n",
    "a través de los 10,000 tweets)."
   ]
  },
  {
   "cell_type": "code",
   "execution_count": null,
   "metadata": {},
   "outputs": [],
   "source": []
  },
  {
   "cell_type": "code",
   "execution_count": null,
   "metadata": {},
   "outputs": [],
   "source": []
  },
  {
   "cell_type": "code",
   "execution_count": null,
   "metadata": {},
   "outputs": [],
   "source": []
  },
  {
   "cell_type": "code",
   "execution_count": null,
   "metadata": {},
   "outputs": [],
   "source": []
  },
  {
   "cell_type": "code",
   "execution_count": null,
   "metadata": {},
   "outputs": [],
   "source": []
  }
 ],
 "metadata": {
  "coursera": {
   "schema_names": [
    "NLPC1-4"
   ]
  },
  "kernelspec": {
   "display_name": "Python 3",
   "language": "python",
   "name": "python3"
  },
  "language_info": {
   "codemirror_mode": {
    "name": "ipython",
    "version": 3
   },
   "file_extension": ".py",
   "mimetype": "text/x-python",
   "name": "python",
   "nbconvert_exporter": "python",
   "pygments_lexer": "ipython3",
   "version": "3.8.5"
  }
 },
 "nbformat": 4,
 "nbformat_minor": 1
}
