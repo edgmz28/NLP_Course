{
 "cells": [
  {
   "cell_type": "markdown",
   "metadata": {},
   "source": [
    "<img style=\"float: left;;\" src='Figures/alinco.png' /></a>\n",
    "\n",
    "# Modulo II: Introducción al Etiquetado de Partes del Discurso (POS): Archivos de texto, crear un vocabulario y manejar palabras desconocidas"
   ]
  },
  {
   "cell_type": "markdown",
   "metadata": {},
   "source": [
    "\n",
    " Crearemos un vocabulario a partir de un conjunto de datos etiquetados y aprenderemos a tratar con palabras que no están presentes en este vocabulario. Aparte de esto, también aprenderemos a:\n",
    " \n",
    "- leer archivos de texto\n",
    "- trabajar con defaultdict\n",
    "- trabajar con datos de cadena"
   ]
  },
  {
   "cell_type": "code",
   "execution_count": 1,
   "metadata": {},
   "outputs": [],
   "source": [
    "#Importar librerías"
   ]
  },
  {
   "cell_type": "markdown",
   "metadata": {},
   "source": [
    "### Leer datos de texto"
   ]
  },
  {
   "cell_type": "markdown",
   "metadata": {},
   "source": [
    "Un conjunto de datos etiquetado tomado del Wall Street Journal se proporciona en el archivo `WSJ_02-21.pos`.\n",
    "\n",
    "Para leer este archivo puede usar el administrador de contexto de Python usando la palabra clave `with` y especificando el nombre del archivo que desea leer. Para guardar realmente el contenido del archivo en la memoria, necesitaremos usar el método `readlines ()` y almacenar su valor de retorno en una variable.\n"
   ]
  },
  {
   "cell_type": "code",
   "execution_count": null,
   "metadata": {},
   "outputs": [],
   "source": []
  },
  {
   "cell_type": "markdown",
   "metadata": {},
   "source": [
    "To check the contents of the dataset you can print the first 5 lines:"
   ]
  },
  {
   "cell_type": "code",
   "execution_count": null,
   "metadata": {},
   "outputs": [],
   "source": []
  },
  {
   "cell_type": "markdown",
   "metadata": {},
   "source": [
    "\n",
    "Cada línea dentro del conjunto de datos tiene una palabra seguida de su etiqueta correspondiente. Sin embargo, dado que la impresión se realizó utilizando una cadena formateada, se puede inferir que la **palabra** y la **etiqueta** están separadas por una pestaña (o algunos espacios) y hay una nueva línea al final de cada línea ( observe que hay un espacio entre cada línea).\n",
    "\n",
    "Si desea comprender el significado de estas etiquetas, puede echar un vistazo [aquí] (https://www.ling.upenn.edu/courses/Fall_2003/ling001/penn_treebank_pos.html).\n",
    "\n",
    "\n"
   ]
  },
  {
   "cell_type": "code",
   "execution_count": null,
   "metadata": {},
   "outputs": [],
   "source": []
  },
  {
   "cell_type": "markdown",
   "metadata": {},
   "source": [
    "\n",
    "### Creando un Vocabulario\n",
    "\n",
    "Ahora que comprendemos cómo está estructurado el conjunto de datos, crearemos un vocabulario a partir de él. Un vocabulario se compone de cada palabra que apareció al menos 2 veces en el conjunto de datos.\n",
    "Para ello, siga estos pasos:\n",
    "- Obtener solo las palabras del conjunto de datos\n",
    "- Utilizaremos un diccionario predeterminado para contar el número de veces que aparece cada palabra\n",
    "- Filtrar el dict para incluir solo palabras que aparecieron al menos 2 veces\n",
    "- Crear una lista a partir del diccionario filtrado\n",
    "- Ordenar la lista\n"
   ]
  },
  {
   "cell_type": "code",
   "execution_count": null,
   "metadata": {},
   "outputs": [],
   "source": []
  },
  {
   "cell_type": "code",
   "execution_count": null,
   "metadata": {},
   "outputs": [],
   "source": []
  },
  {
   "cell_type": "code",
   "execution_count": null,
   "metadata": {},
   "outputs": [],
   "source": []
  },
  {
   "cell_type": "markdown",
   "metadata": {},
   "source": [
    "Finally, the `sort` method will take care of the final step. Notice that it changes the list directly so you don't need to reassign the `vocab` variable:"
   ]
  },
  {
   "cell_type": "code",
   "execution_count": null,
   "metadata": {},
   "outputs": [],
   "source": []
  },
  {
   "cell_type": "markdown",
   "metadata": {},
   "source": [
    "## Procesando nuevas fuentes de texto"
   ]
  },
  {
   "cell_type": "markdown",
   "metadata": {},
   "source": [
    "### Lidiando con palabras desconocidas"
   ]
  },
  {
   "cell_type": "markdown",
   "metadata": {},
   "source": [
    "Ahora que tenemos un vocabulario, lo utilizaremos al procesar nuevas fuentes de texto. **Un texto nuevo tendrá palabras que no aparecen en el vocabulario actual**. Para abordar esto, simplemente podemos clasificar cada palabra nueva como desconocida, pero puede hacerse mejor creando una función que intente clasificar el tipo de cada palabra desconocida y asignarle un \"unkown token\" correspondiente.\n",
    "\n",
    "Esta función realizará lo siguiente y devolverá un token apropiado:\n",
    "\n",
    "   - Verifique si la palabra desconocida contiene algún carácter que sea un dígito\n",
    "       - return `--unk_digit--`\n",
    "   - Compruebe si la palabra desconocida contiene algún carácter de puntuación\n",
    "       - return `--unk_punct--`\n",
    "   - Compruebe si la palabra desconocida contiene algún carácter en mayúsculas\n",
    "       - return `--unk_upper--`\n",
    "   - Compruebe si la palabra desconocida termina con un sufijo que podría indicar que es un sustantivo, verbo, adjetivo o adverbio.\n",
    "        - return `--unk_noun--`, `--unk_verb--`, `--unk_adj--`, `--unk_adv--` respectively\n",
    "\n",
    "Si una palabra no cae bajo ninguna condición, entonces su símbolo será un simple `--unk--`. Las condiciones se evaluarán en el mismo orden que se enumeran aquí. Entonces, si una palabra contiene un carácter de puntuación pero no contiene dígitos, se incluirá en la segunda condición. Para lograr este comportamiento, se pueden utilizar algunas sentencias if/elif-\n"
   ]
  },
  {
   "cell_type": "code",
   "execution_count": null,
   "metadata": {},
   "outputs": [],
   "source": []
  },
  {
   "cell_type": "markdown",
   "metadata": {},
   "source": [
    "Un etiquetador de POS siempre encontrará palabras que no están dentro del vocabulario que se está utilizando. Al aumentar el conjunto de datos para incluir estos \"tokens de palabras desconocidas\", ayuda al etiquetador a tener una mejor idea de la etiqueta adecuada para estas palabras.\n",
    "\n"
   ]
  },
  {
   "cell_type": "markdown",
   "metadata": {},
   "source": [
    "### Obtener la etiqueta correcta para una palabra"
   ]
  },
  {
   "cell_type": "markdown",
   "metadata": {},
   "source": [
    "\n",
    "Todo lo que queda es implementar una función que obtenga la etiqueta correcta para una palabra en particular, tomando consideraciones especiales para las palabras desconocidas. Dado que el conjunto de datos proporciona cada palabra y etiqueta dentro de la misma línea y la palabra que se conoce depende del vocabulario utilizado, estos dos elementos deben ser argumentos para esta función.\n",
    "\n",
    "Esta función debería comprobar si una línea está vacía y, de ser así, debería devolver una palabra de marcador de posición y una etiqueta, `--n -` y `--s -` respectivamente.\n",
    "\n",
    "Si no es así, debe procesar la línea para devolver la palabra correcta y el par de etiquetas, considerando si una palabra es desconocida en qué escenario se debe usar la función `assign_unk ()`.\n",
    "\n"
   ]
  },
  {
   "cell_type": "code",
   "execution_count": null,
   "metadata": {},
   "outputs": [],
   "source": []
  },
  {
   "cell_type": "code",
   "execution_count": null,
   "metadata": {},
   "outputs": [],
   "source": []
  },
  {
   "cell_type": "code",
   "execution_count": null,
   "metadata": {},
   "outputs": [],
   "source": []
  }
 ],
 "metadata": {
  "kernelspec": {
   "display_name": "Python 3",
   "language": "python",
   "name": "python3"
  },
  "language_info": {
   "codemirror_mode": {
    "name": "ipython",
    "version": 3
   },
   "file_extension": ".py",
   "mimetype": "text/x-python",
   "name": "python",
   "nbconvert_exporter": "python",
   "pygments_lexer": "ipython3",
   "version": "3.8.5"
  }
 },
 "nbformat": 4,
 "nbformat_minor": 4
}
