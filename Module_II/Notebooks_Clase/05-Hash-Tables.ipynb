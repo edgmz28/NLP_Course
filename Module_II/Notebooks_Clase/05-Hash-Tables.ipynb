{
 "cells": [
  {
   "cell_type": "markdown",
   "metadata": {},
   "source": [
    "<img style=\"float: left;;\" src='Figures/alinco.png' /></a>\n",
    "\n",
    "# Modulo II: Funciones Hash y Multiplanos"
   ]
  },
  {
   "cell_type": "markdown",
   "metadata": {},
   "source": [
    "# Hash functions and multiplanes\n",
    "\n",
    "\n",
    "Veremos algunos conceptos acerca de las funciones hash.\n",
    "\n",
    "Un punto clave para la búsqueda mediante funciones hash es el cálculo de la clave hash o la identificación del bucket que asignamos para una entrada determinada. Esta vez verermos:\n",
    "\n",
    "\n",
    "* Tablas Hash Básicas\n",
    "* Multiplanos\n",
    "* Planos aleatorios"
   ]
  },
  {
   "cell_type": "markdown",
   "metadata": {},
   "source": [
    "## Tabla Hash Básicas\n",
    "\n",
    "Las tablas hash son estructuras de datos que permiten indexar datos para hacer que las tareas de búsqueda sean más eficientes.\n",
    "En esta parte, veremos la implementación de la función hash más simple."
   ]
  },
  {
   "cell_type": "code",
   "execution_count": 7,
   "metadata": {},
   "outputs": [],
   "source": [
    "#Librerías\n",
    "import numpy as np\n",
    "import pprint\n",
    "import matplotlib.pyplot as plt\n",
    "\n",
    "\n"
   ]
  },
  {
   "cell_type": "markdown",
   "metadata": {},
   "source": [
    "En la siguiente celda, definiremos una función hash sencilla para números enteros. La función recibirá una lista de números enteros y la cantidad deseada de buckets. La función producirá una tabla hash almacenada como un diccionario, donde las claves contienen las claves hash, y los valores proporcionarán los elementos hash de la lista de entrada.\n",
    "\n",
    "La función hash es solo el resto de la división entera entre cada elemento y el número deseado de buckets.\n"
   ]
  },
  {
   "cell_type": "code",
   "execution_count": 3,
   "metadata": {},
   "outputs": [],
   "source": [
    "#Función Hash\n",
    "\n",
    "def hash_function(value, n_buckets):\n",
    "    \n",
    "    return int(value) % n_buckets\n",
    "\n",
    "def basic_hash_table(value_l, n_buckets):\n",
    "    \n",
    "    hash_table = {i : [] for i in range(n_buckets)}\n",
    "    \n",
    "    for value in value_l:\n",
    "        \n",
    "        hash_value = hash_function(value, n_buckets)\n",
    "        hash_table[hash_value].append(value)\n",
    "        \n",
    "    return hash_table\n",
    "        "
   ]
  },
  {
   "cell_type": "markdown",
   "metadata": {},
   "source": [
    "Ahora veamos la función hash en acción. "
   ]
  },
  {
   "cell_type": "code",
   "execution_count": 4,
   "metadata": {},
   "outputs": [
    {
     "data": {
      "text/plain": [
       "{0: [100, 10],\n",
       " 1: [],\n",
       " 2: [],\n",
       " 3: [],\n",
       " 4: [14],\n",
       " 5: [],\n",
       " 6: [],\n",
       " 7: [17, 97],\n",
       " 8: [],\n",
       " 9: []}"
      ]
     },
     "execution_count": 4,
     "metadata": {},
     "output_type": "execute_result"
    }
   ],
   "source": [
    "value_l = [100,10,14,17,97]\n",
    "\n",
    "hash_table_example = basic_hash_table(value_l, n_buckets = 10)\n",
    "hash_table_example"
   ]
  },
  {
   "cell_type": "markdown",
   "metadata": {},
   "source": [
    "En este caso, la clave del bucket debe ser el dígito situado más a la derecha de cada número."
   ]
  },
  {
   "cell_type": "markdown",
   "metadata": {},
   "source": [
    "## Planos\n",
    "\n",
    "Las funciones hash multiplanos son otros tipos de funciones hash. Las funciones hash de multiplanos se basan en la idea de numerar cada región que está formada por la intersección de n planos. En el siguiente código, mostramos las formas más básicas del principio de multiplanos. Primero, con un solo plano:\n"
   ]
  },
  {
   "cell_type": "code",
   "execution_count": 10,
   "metadata": {},
   "outputs": [],
   "source": [
    "def plot_vectors(vectors, colors=['k', 'b', 'r', 'm', 'c'], axes=None, fname='image.svg', ax=None):\n",
    "    scale = 1\n",
    "    scale_units = 'x'\n",
    "    x_dir = []\n",
    "    y_dir = []\n",
    "    \n",
    "    for i, vec in enumerate(vectors):\n",
    "        x_dir.append(vec[0][0])\n",
    "        y_dir.append(vec[0][1])\n",
    "    \n",
    "    if ax == None:\n",
    "        fig, ax2 = plt.subplots()\n",
    "    else:\n",
    "        ax2 = ax\n",
    "      \n",
    "    if axes == None:\n",
    "        x_axis = 2 + np.max(np.abs(x_dir))\n",
    "        y_axis = 2 + np.max(np.abs(y_dir))\n",
    "    else:\n",
    "        x_axis = ax\n",
    "   \n",
    "    if axes == None:\n",
    "        x_axis = 2 + np.max(np.abs(x_dir))\n",
    "        y_axis = 2 + np.max(np.abs(y_dir))\n",
    "    else:\n",
    "        x_axis = axes[0]\n",
    "        y_axis = axes[1]\n",
    "        \n",
    "    ax2.axis([-x_axis, x_axis, -y_axis, y_axis])\n",
    "        \n",
    "    for i, vec in enumerate(vectors):\n",
    "        ax2.arrow(0, 0, vec[0][0], vec[0][1], head_width=0.05 * x_axis, head_length=0.05 * y_axis, fc=colors[i], ec=colors[i])\n",
    "    \n",
    "    if ax == None:\n",
    "        plt.show()\n",
    "        fig.savefig(fname)"
   ]
  },
  {
   "cell_type": "code",
   "execution_count": 11,
   "metadata": {},
   "outputs": [
    {
     "data": {
      "image/png": "[encoded data removed]",
      "text/plain": [
       "<Figure size 576x576 with 1 Axes>"
      ]
     },
     "metadata": {
      "needs_background": "light"
     },
     "output_type": "display_data"
    }
   ],
   "source": [
    "#Ploteo de planos\n",
    "\n",
    "p = np.array([[1,1]])\n",
    "\n",
    "fig, ax1 = plt.subplots(figsize = (8,8))\n",
    "plot_vectors([p], axes = [2,2], ax = ax1)\n",
    "\n",
    "for i in range(0,10):\n",
    "    v1 = np.array(np.random.uniform(-2,2,2))\n",
    "    side_of_plane = np.sign(np.dot(p,v1.T))\n",
    "    \n",
    "    if side_of_plane == 1:\n",
    "        axi.plot([v1[0]], [v1[1]],'bo')\n",
    "    else:\n",
    "        axi.plot([v1[0]], [v1[1]],'ro')\n",
    "        \n",
    "    \n",
    "    "
   ]
  },
  {
   "cell_type": "markdown",
   "metadata": {},
   "source": [
    "\n",
    "Lo primero que hay que tener en cuenta es que el vector que define el plano no marca el límite entre los dos lados del plano. Marca la dirección en la que encuentra el lado \"positivo\" del plano.\n",
    "\n",
    "Si queremos trazar el plano de separación, necesitamos trazar una línea que sea perpendicular a nuestro vector \"P\". Podemos obtener dicha línea usando una matriz de rotación de $ 90^o $.\n",
    "\n"
   ]
  },
  {
   "cell_type": "code",
   "execution_count": null,
   "metadata": {},
   "outputs": [],
   "source": []
  },
  {
   "cell_type": "markdown",
   "metadata": {},
   "source": [
    "Now, let us see what is inside the code that color the points. "
   ]
  },
  {
   "cell_type": "markdown",
   "metadata": {},
   "source": [
    "La siguiente función comprueba en qué lado del plano P se encuentra el vector `v`"
   ]
  },
  {
   "cell_type": "code",
   "execution_count": 4,
   "metadata": {},
   "outputs": [],
   "source": [
    "#Función para saber de que lado del plano está"
   ]
  },
  {
   "cell_type": "markdown",
   "metadata": {},
   "source": [
    "## Hash Function con multiples planos\n",
    "\n",
    "En la siguiente sección, vamos a definir una función hash con una lista de tres planos personalizados en 2D."
   ]
  },
  {
   "cell_type": "code",
   "execution_count": null,
   "metadata": {},
   "outputs": [],
   "source": []
  },
  {
   "cell_type": "markdown",
   "metadata": {},
   "source": [
    "La siguiente función crea un valor hash basado en un conjunto de planos. El valor de salida es una combinación del lado del plano donde se localiza el vector con respecto a la colección de planos.\n",
    "\n",
    "Podemos pensar en esta lista de planos como un conjunto de funciones hash básicas, cada una de las cuales puede producir solo 1 o 0 como salida."
   ]
  },
  {
   "cell_type": "code",
   "execution_count": 5,
   "metadata": {},
   "outputs": [],
   "source": [
    "#hash multiplano"
   ]
  },
  {
   "cell_type": "code",
   "execution_count": null,
   "metadata": {},
   "outputs": [],
   "source": []
  },
  {
   "cell_type": "markdown",
   "metadata": {},
   "source": [
    "## Planos Aleatorios\n",
    "\n"
   ]
  },
  {
   "cell_type": "code",
   "execution_count": null,
   "metadata": {},
   "outputs": [],
   "source": []
  },
  {
   "cell_type": "markdown",
   "metadata": {},
   "source": [
    "La siguiente función es similar a la función `side_of_plane ()`, pero evalúa más de un plano cada vez. El resultado es una matriz con el lado del plano de `v`, para el conjunto de planos` P`"
   ]
  },
  {
   "cell_type": "code",
   "execution_count": null,
   "metadata": {},
   "outputs": [],
   "source": []
  },
  {
   "cell_type": "markdown",
   "metadata": {},
   "source": [
    "Obtenga el lado del plano del vector `[2, 2]` para el conjunto de planos aleatorios."
   ]
  },
  {
   "cell_type": "code",
   "execution_count": null,
   "metadata": {},
   "outputs": [],
   "source": []
  },
  {
   "cell_type": "code",
   "execution_count": null,
   "metadata": {},
   "outputs": [],
   "source": []
  },
  {
   "cell_type": "markdown",
   "metadata": {},
   "source": [
    "Imprime el hash del bucket para el vector `v = [2, 2]`. "
   ]
  },
  {
   "cell_type": "code",
   "execution_count": null,
   "metadata": {},
   "outputs": [],
   "source": []
  },
  {
   "cell_type": "markdown",
   "metadata": {},
   "source": [
    "#### Nota\n",
    "\n",
    "Esto muestra cómo hacer un conjunto de planos aleatorios. Haremos varios conjuntos de planos aleatorios para obtener que los vecinos más cercanos sean más precisos.\n"
   ]
  },
  {
   "cell_type": "markdown",
   "metadata": {},
   "source": [
    "## Vectores documentos\n",
    "\n",
    "Before we finish this lab, remember that you can represent a document as a vector by adding up the word vectors for the words inside the document. In this example, our embedding contains only three words, each represented by a 3D array.\n",
    "\n",
    "Recuerde que puede representar un documento como un vector sumando los vectores de palabras para las palabras dentro del documento. En este ejemplo, los wordembeddings contienen solo tres palabras, cada una representada por una arreglo de dimensión 3.\n",
    "\n"
   ]
  },
  {
   "cell_type": "code",
   "execution_count": 6,
   "metadata": {},
   "outputs": [],
   "source": [
    "# wordembeddings"
   ]
  },
  {
   "cell_type": "code",
   "execution_count": null,
   "metadata": {},
   "outputs": [],
   "source": []
  }
 ],
 "metadata": {
  "kernelspec": {
   "display_name": "Python 3",
   "language": "python",
   "name": "python3"
  },
  "language_info": {
   "codemirror_mode": {
    "name": "ipython",
    "version": 3
   },
   "file_extension": ".py",
   "mimetype": "text/x-python",
   "name": "python",
   "nbconvert_exporter": "python",
   "pygments_lexer": "ipython3",
   "version": "3.8.3"
  }
 },
 "nbformat": 4,
 "nbformat_minor": 2
}
