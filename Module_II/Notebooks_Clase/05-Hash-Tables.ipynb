{
 "cells": [
  {
   "cell_type": "markdown",
   "metadata": {},
   "source": [
    "<img style=\"float: left;;\" src='Figures/alinco.png' /></a>\n",
    "\n",
    "# Modulo II: Funciones Hash y Multiplanos"
   ]
  },
  {
   "cell_type": "markdown",
   "metadata": {},
   "source": [
    "# Hash functions and multiplanes\n",
    "\n",
    "\n",
    "Veremos algunos conceptos acerca de las funciones hash.\n",
    "\n",
    "Un punto clave para la búsqueda mediante funciones hash es el cálculo de la clave hash o la identificación del bucket que asignamos para una entrada determinada. Esta vez verermos:\n",
    "\n",
    "\n",
    "* Tablas Hash Básicas\n",
    "* Multiplanos\n",
    "* Planos aleatorios"
   ]
  },
  {
   "cell_type": "markdown",
   "metadata": {},
   "source": [
    "## Tabla Hash Básicas\n",
    "\n",
    "Las tablas hash son estructuras de datos que permiten indexar datos para hacer que las tareas de búsqueda sean más eficientes.\n",
    "En esta parte, veremos la implementación de la función hash más simple."
   ]
  },
  {
   "cell_type": "code",
   "execution_count": 7,
   "metadata": {},
   "outputs": [],
   "source": [
    "#Librerías\n",
    "import numpy as np\n",
    "import pprint \n",
    "import matplotlib.pyplot as plt\n",
    "\n"
   ]
  },
  {
   "cell_type": "markdown",
   "metadata": {},
   "source": [
    "En la siguiente celda, definiremos una función hash sencilla para números enteros. La función recibirá una lista de números enteros y la cantidad deseada de buckets. La función producirá una tabla hash almacenada como un diccionario, donde las claves contienen las claves hash, y los valores proporcionarán los elementos hash de la lista de entrada.\n",
    "\n",
    "La función hash es solo el resto de la división entera entre cada elemento y el número deseado de buckets.\n"
   ]
  },
  {
   "cell_type": "code",
   "execution_count": 8,
   "metadata": {},
   "outputs": [],
   "source": [
    "#Función Hash\n",
    "def hash_function(value, n_buckets):\n",
    "    return int(value) % n_buckets\n",
    "\n",
    "def basic_hash_table(value_l, n_buckets):\n",
    "    \n",
    "    hash_table = {i: [] for i in range(n_buckets)}\n",
    "    \n",
    "    for value in value_l:\n",
    "        hash_value = hash_function(value, n_buckets)\n",
    "        hash_table[hash_value].append(value)\n",
    "        \n",
    "    return hash_table\n",
    "    "
   ]
  },
  {
   "cell_type": "markdown",
   "metadata": {},
   "source": [
    "Ahora veamos la función hash en acción. "
   ]
  },
  {
   "cell_type": "code",
   "execution_count": 10,
   "metadata": {},
   "outputs": [
    {
     "data": {
      "text/plain": [
       "{0: [100, 10],\n",
       " 1: [],\n",
       " 2: [],\n",
       " 3: [],\n",
       " 4: [14],\n",
       " 5: [],\n",
       " 6: [],\n",
       " 7: [17, 97],\n",
       " 8: [],\n",
       " 9: []}"
      ]
     },
     "execution_count": 10,
     "metadata": {},
     "output_type": "execute_result"
    }
   ],
   "source": [
    "value_l = [100, 10, 14, 17, 97]\n",
    "hash_table_example = basic_hash_table(value_l, n_buckets=10)\n",
    "hash_table_example"
   ]
  },
  {
   "cell_type": "markdown",
   "metadata": {},
   "source": [
    "En este caso, la clave del bucket debe ser el dígito situado más a la derecha de cada número."
   ]
  },
  {
   "cell_type": "markdown",
   "metadata": {},
   "source": [
    "## Planos\n",
    "\n",
    "Las funciones hash multiplanos son otros tipos de funciones hash. Las funciones hash de multiplanos se basan en la idea de numerar cada región que está formada por la intersección de n planos. En el siguiente código, mostramos las formas más básicas del principio de multiplanos. Primero, con un solo plano:\n"
   ]
  },
  {
   "cell_type": "code",
   "execution_count": 11,
   "metadata": {},
   "outputs": [],
   "source": [
    "def plot_vectors(vectors, colors=['k', 'b', 'r', 'm', 'c'], axes=None, fname='image.svg', ax=None):\n",
    "    scale = 1\n",
    "    scale_units = 'x'\n",
    "    x_dir = []\n",
    "    y_dir = []\n",
    "    \n",
    "    for i, vec in enumerate(vectors):\n",
    "        x_dir.append(vec[0][0])\n",
    "        y_dir.append(vec[0][1])\n",
    "    \n",
    "    if ax == None:\n",
    "        fig, ax2 = plt.subplots()\n",
    "    else:\n",
    "        ax2 = ax\n",
    "      \n",
    "    if axes == None:\n",
    "        x_axis = 2 + np.max(np.abs(x_dir))\n",
    "        y_axis = 2 + np.max(np.abs(y_dir))\n",
    "    else:\n",
    "        x_axis = axes[0]\n",
    "        y_axis = axes[1]\n",
    "        \n",
    "    ax2.axis([-x_axis, x_axis, -y_axis, y_axis])\n",
    "        \n",
    "    for i, vec in enumerate(vectors):\n",
    "        ax2.arrow(0, 0, vec[0][0], vec[0][1], head_width=0.05 * x_axis, head_length=0.05 * y_axis, fc=colors[i], ec=colors[i])\n",
    "    \n",
    "    if ax == None:\n",
    "        plt.show()\n",
    "        fig.savefig(fname)\n"
   ]
  },
  {
   "cell_type": "code",
   "execution_count": 14,
   "metadata": {},
   "outputs": [
    {
     "data": {
      "image/png": "[encoded data removed]",
      "text/plain": [
       "<Figure size 576x576 with 1 Axes>"
      ]
     },
     "metadata": {
      "needs_background": "light"
     },
     "output_type": "display_data"
    }
   ],
   "source": [
    "#Ploteo de planos\n",
    "\n",
    "P = np.array([[1,1]])\n",
    "\n",
    "fig,ax1 = plt.subplots(figsize=(8,8))\n",
    "plot_vectors([P], axes=[2,2], ax=ax1)\n",
    "\n",
    "for i in range(0,10):\n",
    "    v1 = np.array(np.random.uniform(-2,2,2))\n",
    "    side_of_plane = np.sign(np.dot(P,v1.T))\n",
    "    \n",
    "    if side_of_plane ==1:\n",
    "        ax1.plot([v1[0]],[v1[1]], 'bo')\n",
    "    else:\n",
    "        ax1.plot([v1[0]],[v1[1]], 'ro')\n",
    "        \n",
    "plt.show()"
   ]
  },
  {
   "cell_type": "code",
   "execution_count": 15,
   "metadata": {},
   "outputs": [],
   "source": [
    "P = np.array([[1,1]])"
   ]
  },
  {
   "cell_type": "code",
   "execution_count": 16,
   "metadata": {},
   "outputs": [],
   "source": [
    "v1= np.array([[1,2]])\n",
    "v2= np.array([[-1,1]])\n",
    "v3= np.array([[-2,-1]])"
   ]
  },
  {
   "cell_type": "code",
   "execution_count": 17,
   "metadata": {},
   "outputs": [
    {
     "data": {
      "text/plain": [
       "array([[3]])"
      ]
     },
     "execution_count": 17,
     "metadata": {},
     "output_type": "execute_result"
    }
   ],
   "source": [
    "np.dot(P,v1.T)"
   ]
  },
  {
   "cell_type": "code",
   "execution_count": 18,
   "metadata": {},
   "outputs": [
    {
     "data": {
      "text/plain": [
       "array([[-3]])"
      ]
     },
     "execution_count": 18,
     "metadata": {},
     "output_type": "execute_result"
    }
   ],
   "source": [
    "np.dot(P,v3.T)"
   ]
  },
  {
   "cell_type": "code",
   "execution_count": 19,
   "metadata": {},
   "outputs": [],
   "source": [
    "def side_of_plane(P,v):\n",
    "    dotprod = np.dot(P,v.T)\n",
    "    sing_dotprod = np.sign(dotprod)\n",
    "    sing_dotprod_scalar = sing_dotprod.item()\n",
    "    \n",
    "    return sing_dotprod_scalar\n",
    "    \n",
    "    "
   ]
  },
  {
   "cell_type": "code",
   "execution_count": 20,
   "metadata": {},
   "outputs": [
    {
     "data": {
      "text/plain": [
       "1"
      ]
     },
     "execution_count": 20,
     "metadata": {},
     "output_type": "execute_result"
    }
   ],
   "source": [
    "side_of_plane(P, v1)"
   ]
  },
  {
   "cell_type": "code",
   "execution_count": 21,
   "metadata": {},
   "outputs": [
    {
     "data": {
      "text/plain": [
       "-1"
      ]
     },
     "execution_count": 21,
     "metadata": {},
     "output_type": "execute_result"
    }
   ],
   "source": [
    "side_of_plane(P, v3)"
   ]
  },
  {
   "cell_type": "code",
   "execution_count": null,
   "metadata": {},
   "outputs": [],
   "source": []
  },
  {
   "cell_type": "markdown",
   "metadata": {},
   "source": [
    "\n",
    "Lo primero que hay que tener en cuenta es que el vector que define el plano no marca el límite entre los dos lados del plano. Marca la dirección en la que encuentra el lado \"positivo\" del plano.\n",
    "\n",
    "Si queremos trazar el plano de separación, necesitamos trazar una línea que sea perpendicular a nuestro vector \"P\". Podemos obtener dicha línea usando una matriz de rotación de $ 90^o $.\n",
    "\n"
   ]
  },
  {
   "cell_type": "code",
   "execution_count": null,
   "metadata": {},
   "outputs": [],
   "source": []
  },
  {
   "cell_type": "markdown",
   "metadata": {},
   "source": [
    "Now, let us see what is inside the code that color the points. "
   ]
  },
  {
   "cell_type": "markdown",
   "metadata": {},
   "source": [
    "La siguiente función comprueba en qué lado del plano P se encuentra el vector `v`"
   ]
  },
  {
   "cell_type": "code",
   "execution_count": 4,
   "metadata": {},
   "outputs": [],
   "source": [
    "#Función para saber de que lado del plano está"
   ]
  },
  {
   "cell_type": "markdown",
   "metadata": {},
   "source": [
    "## Hash Function con multiples planos\n",
    "\n",
    "En la siguiente sección, vamos a definir una función hash con una lista de tres planos personalizados en 2D."
   ]
  },
  {
   "cell_type": "code",
   "execution_count": 23,
   "metadata": {},
   "outputs": [],
   "source": [
    "P1 = np.array([[1,1]])\n",
    "P2 = np.array([[-1,1]])\n",
    "P3 = np.array([[-1,-1]])\n",
    "\n",
    "P_l = [P1, P2, P3]\n",
    "\n",
    "v=np.array([[2,2]])\n",
    "\n"
   ]
  },
  {
   "cell_type": "markdown",
   "metadata": {},
   "source": [
    "La siguiente función crea un valor hash basado en un conjunto de planos. El valor de salida es una combinación del lado del plano donde se localiza el vector con respecto a la colección de planos.\n",
    "\n",
    "Podemos pensar en esta lista de planos como un conjunto de funciones hash básicas, cada una de las cuales puede producir solo 1 o 0 como salida."
   ]
  },
  {
   "cell_type": "code",
   "execution_count": 24,
   "metadata": {},
   "outputs": [],
   "source": [
    "#hash multiplano\n",
    "def hash_multi_plane(P_l, v):\n",
    "    hash_value = 0\n",
    "    for i, P in enumerate(P_l):\n",
    "        sign = side_of_plane(P,v)\n",
    "        hash_i = 1 if sign>= 0 else 0\n",
    "        hash_value += 2**i * hash_i\n",
    "    return hash_value\n",
    "        "
   ]
  },
  {
   "cell_type": "code",
   "execution_count": 36,
   "metadata": {},
   "outputs": [],
   "source": [
    "v1=np.array([[-.2,.2]])\n",
    "v2=np.array([[-1000,1000]])\n",
    "v3=np.array([[-5,5]])\n",
    "\n",
    "vx= [x,-x]"
   ]
  },
  {
   "cell_type": "code",
   "execution_count": 37,
   "metadata": {},
   "outputs": [
    {
     "data": {
      "text/plain": [
       "7"
      ]
     },
     "execution_count": 37,
     "metadata": {},
     "output_type": "execute_result"
    }
   ],
   "source": [
    "hash_multi_plane(P_l, v2)"
   ]
  },
  {
   "cell_type": "markdown",
   "metadata": {},
   "source": [
    "## Planos Aleatorios\n",
    "\n"
   ]
  },
  {
   "cell_type": "code",
   "execution_count": 38,
   "metadata": {},
   "outputs": [
    {
     "name": "stdout",
     "output_type": "stream",
     "text": [
      "[[ 1.76405235  0.40015721]\n",
      " [ 0.97873798  2.2408932 ]\n",
      " [ 1.86755799 -0.97727788]]\n"
     ]
    }
   ],
   "source": [
    "np.random.seed(0)\n",
    "num_dimensions=2\n",
    "num_planes = 3\n",
    "\n",
    "random_planes_matrix = np.random.normal(size=(num_planes, num_dimensions))\n",
    "\n",
    "\n",
    "print(random_planes_matrix)"
   ]
  },
  {
   "cell_type": "code",
   "execution_count": 39,
   "metadata": {},
   "outputs": [],
   "source": [
    "\n",
    "v=np.array([[2,2]])"
   ]
  },
  {
   "cell_type": "markdown",
   "metadata": {},
   "source": [
    "La siguiente función es similar a la función `side_of_plane ()`, pero evalúa más de un plano cada vez. El resultado es una matriz con el lado del plano de `v`, para el conjunto de planos` P`"
   ]
  },
  {
   "cell_type": "code",
   "execution_count": 40,
   "metadata": {},
   "outputs": [],
   "source": [
    "def side_of_plane_matrix(P,v):\n",
    "    dotprod = np.dot(P,v.T)\n",
    "    sign_of_dotprod = np.sign(dotprod)\n",
    "    return sign_of_dotprod\n",
    "\n",
    "    \n",
    "    "
   ]
  },
  {
   "cell_type": "markdown",
   "metadata": {},
   "source": [
    "Obtenga el lado del plano del vector `[2, 2]` para el conjunto de planos aleatorios."
   ]
  },
  {
   "cell_type": "code",
   "execution_count": 41,
   "metadata": {},
   "outputs": [
    {
     "data": {
      "text/plain": [
       "array([[1.],\n",
       "       [1.],\n",
       "       [1.]])"
      ]
     },
     "execution_count": 41,
     "metadata": {},
     "output_type": "execute_result"
    }
   ],
   "source": [
    "sides_l = side_of_plane_matrix(random_planes_matrix, v)\n",
    "\n",
    "sides_l"
   ]
  },
  {
   "cell_type": "code",
   "execution_count": 44,
   "metadata": {},
   "outputs": [],
   "source": [
    "def hash_multi_plane_matrix(P, v, num_planes):\n",
    "    sides_matrix = side_of_plane_matrix(P, v)\n",
    "    \n",
    "    hash_value = 0\n",
    "    for i in range(num_planes):\n",
    "        sign = sides_matrix[i].item()\n",
    "        hash_i = 1 if sign>= 0 else 0\n",
    "        hash_value += 2**i * hash_i\n",
    "    return hash_value\n",
    "        "
   ]
  },
  {
   "cell_type": "markdown",
   "metadata": {},
   "source": [
    "Imprime el hash del bucket para el vector `v = [2, 2]`. "
   ]
  },
  {
   "cell_type": "code",
   "execution_count": 45,
   "metadata": {},
   "outputs": [
    {
     "data": {
      "text/plain": [
       "7"
      ]
     },
     "execution_count": 45,
     "metadata": {},
     "output_type": "execute_result"
    }
   ],
   "source": [
    "hash_multi_plane_matrix(random_planes_matrix,v,num_planes)"
   ]
  },
  {
   "cell_type": "markdown",
   "metadata": {},
   "source": [
    "#### Nota\n",
    "\n",
    "Esto muestra cómo hacer un conjunto de planos aleatorios. Haremos varios conjuntos de planos aleatorios para obtener que los vecinos más cercanos sean más precisos.\n"
   ]
  },
  {
   "cell_type": "markdown",
   "metadata": {},
   "source": [
    "## Vectores documentos\n",
    "\n",
    "Recuerde que puede representar un documento como un vector sumando los vectores de palabras para las palabras dentro del documento. En este ejemplo, los wordembeddings contienen solo tres palabras, cada una representada por una arreglo de dimensión 3.\n",
    "\n"
   ]
  },
  {
   "cell_type": "code",
   "execution_count": 6,
   "metadata": {},
   "outputs": [],
   "source": [
    "# wordembeddings"
   ]
  },
  {
   "cell_type": "code",
   "execution_count": null,
   "metadata": {},
   "outputs": [],
   "source": []
  }
 ],
 "metadata": {
  "kernelspec": {
   "display_name": "Python 3",
   "language": "python",
   "name": "python3"
  },
  "language_info": {
   "codemirror_mode": {
    "name": "ipython",
    "version": 3
   },
   "file_extension": ".py",
   "mimetype": "text/x-python",
   "name": "python",
   "nbconvert_exporter": "python",
   "pygments_lexer": "ipython3",
   "version": "3.8.5"
  }
 },
 "nbformat": 4,
 "nbformat_minor": 2
}
