{
 "cells": [
  {
   "cell_type": "markdown",
   "metadata": {},
   "source": [
    "<img style=\"float: left;;\" src='Figures/alinco.png' /></a>\n",
    "\n",
    "# Modulo II: Funciones Hash y Multiplanos"
   ]
  },
  {
   "cell_type": "markdown",
   "metadata": {},
   "source": [
    "# Hash functions and multiplanes\n",
    "\n",
    "\n",
    "Veremos algunos conceptos acerca de las funciones hash.\n",
    "\n",
    "Un punto clave para la búsqueda mediante funciones hash es el cálculo de la clave hash o la identificación del bucket que asignamos para una entrada determinada. Esta vez verermos:\n",
    "\n",
    "\n",
    "* Tablas Hash Básicas\n",
    "* Multiplanos\n",
    "* Planos aleatorios"
   ]
  },
  {
   "cell_type": "markdown",
   "metadata": {},
   "source": [
    "## Tabla Hash Básicas\n",
    "\n",
    "Las tablas hash son estructuras de datos que permiten indexar datos para hacer que las tareas de búsqueda sean más eficientes.\n",
    "En esta parte, veremos la implementación de la función hash más simple."
   ]
  },
  {
   "cell_type": "code",
   "execution_count": 1,
   "metadata": {},
   "outputs": [],
   "source": [
    "#Librerías\n"
   ]
  },
  {
   "cell_type": "markdown",
   "metadata": {},
   "source": [
    "En la siguiente celda, definiremos una función hash sencilla para números enteros. La función recibirá una lista de números enteros y la cantidad deseada de buckets. La función producirá una tabla hash almacenada como un diccionario, donde las claves contienen las claves hash, y los valores proporcionarán los elementos hash de la lista de entrada.\n",
    "\n",
    "La función hash es solo el resto de la división entera entre cada elemento y el número deseado de buckets.\n"
   ]
  },
  {
   "cell_type": "code",
   "execution_count": 2,
   "metadata": {},
   "outputs": [],
   "source": [
    "#Función Hash"
   ]
  },
  {
   "cell_type": "markdown",
   "metadata": {},
   "source": [
    "Ahora veamos la función hash en acción. "
   ]
  },
  {
   "cell_type": "code",
   "execution_count": null,
   "metadata": {},
   "outputs": [],
   "source": []
  },
  {
   "cell_type": "markdown",
   "metadata": {},
   "source": [
    "En este caso, la clave del bucket debe ser el dígito situado más a la derecha de cada número."
   ]
  },
  {
   "cell_type": "markdown",
   "metadata": {},
   "source": [
    "## Planos\n",
    "\n",
    "Las funciones hash multiplanos son otros tipos de funciones hash. Las funciones hash de multiplanos se basan en la idea de numerar cada región que está formada por la intersección de n planos. En el siguiente código, mostramos las formas más básicas del principio de multiplanos. Primero, con un solo plano:\n"
   ]
  },
  {
   "cell_type": "code",
   "execution_count": 3,
   "metadata": {},
   "outputs": [],
   "source": [
    "#Ploteo de planos"
   ]
  },
  {
   "cell_type": "markdown",
   "metadata": {},
   "source": [
    "\n",
    "Lo primero que hay que tener en cuenta es que el vector que define el plano no marca el límite entre los dos lados del plano. Marca la dirección en la que encuentra el lado \"positivo\" del plano.\n",
    "\n",
    "Si queremos trazar el plano de separación, necesitamos trazar una línea que sea perpendicular a nuestro vector \"P\". Podemos obtener dicha línea usando una matriz de rotación de $ 90^o $.\n",
    "\n"
   ]
  },
  {
   "cell_type": "code",
   "execution_count": null,
   "metadata": {},
   "outputs": [],
   "source": []
  },
  {
   "cell_type": "markdown",
   "metadata": {},
   "source": [
    "Now, let us see what is inside the code that color the points. "
   ]
  },
  {
   "cell_type": "markdown",
   "metadata": {},
   "source": [
    "La siguiente función comprueba en qué lado del plano P se encuentra el vector `v`"
   ]
  },
  {
   "cell_type": "code",
   "execution_count": 4,
   "metadata": {},
   "outputs": [],
   "source": [
    "#Función para saber de que lado del plano está"
   ]
  },
  {
   "cell_type": "markdown",
   "metadata": {},
   "source": [
    "## Hash Function con multiples planos\n",
    "\n",
    "En la siguiente sección, vamos a definir una función hash con una lista de tres planos personalizados en 2D."
   ]
  },
  {
   "cell_type": "code",
   "execution_count": null,
   "metadata": {},
   "outputs": [],
   "source": []
  },
  {
   "cell_type": "markdown",
   "metadata": {},
   "source": [
    "La siguiente función crea un valor hash basado en un conjunto de planos. El valor de salida es una combinación del lado del plano donde se localiza el vector con respecto a la colección de planos.\n",
    "\n",
    "Podemos pensar en esta lista de planos como un conjunto de funciones hash básicas, cada una de las cuales puede producir solo 1 o 0 como salida."
   ]
  },
  {
   "cell_type": "code",
   "execution_count": 5,
   "metadata": {},
   "outputs": [],
   "source": [
    "#hash multiplano"
   ]
  },
  {
   "cell_type": "code",
   "execution_count": null,
   "metadata": {},
   "outputs": [],
   "source": []
  },
  {
   "cell_type": "markdown",
   "metadata": {},
   "source": [
    "## Planos Aleatorios\n",
    "\n"
   ]
  },
  {
   "cell_type": "code",
   "execution_count": null,
   "metadata": {},
   "outputs": [],
   "source": []
  },
  {
   "cell_type": "markdown",
   "metadata": {},
   "source": [
    "La siguiente función es similar a la función `side_of_plane ()`, pero evalúa más de un plano cada vez. El resultado es una matriz con el lado del plano de `v`, para el conjunto de planos` P`"
   ]
  },
  {
   "cell_type": "code",
   "execution_count": null,
   "metadata": {},
   "outputs": [],
   "source": []
  },
  {
   "cell_type": "markdown",
   "metadata": {},
   "source": [
    "Obtenga el lado del plano del vector `[2, 2]` para el conjunto de planos aleatorios."
   ]
  },
  {
   "cell_type": "code",
   "execution_count": null,
   "metadata": {},
   "outputs": [],
   "source": []
  },
  {
   "cell_type": "code",
   "execution_count": null,
   "metadata": {},
   "outputs": [],
   "source": []
  },
  {
   "cell_type": "markdown",
   "metadata": {},
   "source": [
    "Imprime el hash del bucket para el vector `v = [2, 2]`. "
   ]
  },
  {
   "cell_type": "code",
   "execution_count": null,
   "metadata": {},
   "outputs": [],
   "source": []
  },
  {
   "cell_type": "markdown",
   "metadata": {},
   "source": [
    "#### Nota\n",
    "\n",
    "Esto muestra cómo hacer un conjunto de planos aleatorios. Haremos varios conjuntos de planos aleatorios para obtener que los vecinos más cercanos sean más precisos.\n"
   ]
  },
  {
   "cell_type": "markdown",
   "metadata": {},
   "source": [
    "## Vectores documentos\n",
    "\n",
    "Recuerde que puede representar un documento como un vector sumando los vectores de palabras para las palabras dentro del documento. En este ejemplo, los wordembeddings contienen solo tres palabras, cada una representada por una arreglo de dimensión 3.\n",
    "\n"
   ]
  },
  {
   "cell_type": "code",
   "execution_count": 6,
   "metadata": {},
   "outputs": [],
   "source": [
    "# wordembeddings"
   ]
  },
  {
   "cell_type": "code",
   "execution_count": null,
   "metadata": {},
   "outputs": [],
   "source": []
  }
 ],
 "metadata": {
  "kernelspec": {
   "display_name": "Python 3",
   "language": "python",
   "name": "python3"
  },
  "language_info": {
   "codemirror_mode": {
    "name": "ipython",
    "version": 3
   },
   "file_extension": ".py",
   "mimetype": "text/x-python",
   "name": "python",
   "nbconvert_exporter": "python",
   "pygments_lexer": "ipython3",
   "version": "3.8.5"
  }
 },
 "nbformat": 4,
 "nbformat_minor": 2
}
