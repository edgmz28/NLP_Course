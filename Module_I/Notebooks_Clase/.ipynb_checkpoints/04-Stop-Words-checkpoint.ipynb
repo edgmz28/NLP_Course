{
 "cells": [
  {
   "cell_type": "markdown",
   "metadata": {},
   "source": [
    "<img style=\"float: left;;\" src='Figures/alinco.png' /></a>\n",
    "\n",
    "# Modulo I: Stopwords"
   ]
  },
  {
   "cell_type": "markdown",
   "metadata": {},
   "source": [
    "\n",
    "Palabras como \"a\" y \"the\" aparecen con tanta frecuencia que no requieren etiquetarse como sustantivos, verbos y modificadores. A estas las llamamos *stopwords* y se pueden filtrar del texto que se va a procesar. spaCy tiene una lista incorporada de unas 326 stopwords en inglés."
   ]
  },
  {
   "cell_type": "code",
   "execution_count": 1,
   "metadata": {},
   "outputs": [],
   "source": [
    "# Importar librerías"
   ]
  },
  {
   "cell_type": "code",
   "execution_count": 2,
   "metadata": {},
   "outputs": [],
   "source": [
    "# IMprimir la lista de palabras stopwords\n"
   ]
  },
  {
   "cell_type": "markdown",
   "metadata": {},
   "source": [
    "## Ver si una palabra es stopwords"
   ]
  },
  {
   "cell_type": "code",
   "execution_count": null,
   "metadata": {},
   "outputs": [],
   "source": []
  },
  {
   "cell_type": "markdown",
   "metadata": {},
   "source": [
    "## Añadir un stopword\n",
    "Puede haber ocasiones en las que desee agregar una palabra de parada al conjunto predeterminado. Quizás decida que \"por cierto\" (abreviatura común de \"por cierto\") debe considerarse una palabra de parada."
   ]
  },
  {
   "cell_type": "code",
   "execution_count": 3,
   "metadata": {},
   "outputs": [],
   "source": [
    "# Añadir una palabra a los stopwords. en minúsculas!\n"
   ]
  },
  {
   "cell_type": "markdown",
   "metadata": {},
   "source": [
    "<font color=green>Al agregar stopwords, utilice siempre minúsculas. Los lexemas se convierten a minúsculas antes de agregarlos al **vocabulario**.</font>"
   ]
  },
  {
   "cell_type": "markdown",
   "metadata": {},
   "source": [
    "## Removiendo un stopword\n",
    "Alternativamente, puede decidir que \"más allá\" no debe considerarse una palabra de parada."
   ]
  },
  {
   "cell_type": "code",
   "execution_count": 4,
   "metadata": {},
   "outputs": [],
   "source": [
    "# Remover la palabra del conjunti de palabras de stopwords"
   ]
  }
 ],
 "metadata": {
  "kernelspec": {
   "display_name": "Python 3",
   "language": "python",
   "name": "python3"
  },
  "language_info": {
   "codemirror_mode": {
    "name": "ipython",
    "version": 3
   },
   "file_extension": ".py",
   "mimetype": "text/x-python",
   "name": "python",
   "nbconvert_exporter": "python",
   "pygments_lexer": "ipython3",
   "version": "3.8.5"
  }
 },
 "nbformat": 4,
 "nbformat_minor": 2
}
