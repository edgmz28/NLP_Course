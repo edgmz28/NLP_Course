{
 "cells": [
  {
   "cell_type": "markdown",
   "metadata": {},
   "source": [
    "<img style=\"float: left;;\" src='Figures/alinco.png' /></a>\n",
    "\n",
    "# Modulo I: Stemming"
   ]
  },
  {
   "cell_type": "markdown",
   "metadata": {},
   "source": [
    "A menudo, cuando se busca texto para una determinada palabra clave, es útil que la búsqueda devuelva variaciones de la palabra. Por ejemplo, la búsqueda de \"barco\" también puede devolver \"barcos\" y \"navegación\". Aquí, \"bote\" sería la ** raíz ** de [bote, navegante, navegación, botes].\n",
    "\n",
    "El Stemming es un método un tanto tosco para catalogar palabras relacionadas; esencialmente corta las letras desde el final hasta que se alcanza el tallo. Esto funciona bastante bien en la mayoría de los casos, pero desafortunadamente el inglés tiene muchas excepciones donde se requiere un proceso más sofisticado. De hecho, spaCy no incluye un lematizador, sino que opta por confiar completamente en la lematización. Para aquellos interesados, hay algunos antecedentes sobre esta decisión [aquí] (https://github.com/explosion/spaCy/issues/327).\n",
    "\n",
    "En su lugar, usaremos otra herramienta popular de PNL llamada **nltk**, que significa *Natural Language Toolkit*. Para obtener más información sobre nltk, visite https://www.nltk.org/"
   ]
  },
  {
   "cell_type": "markdown",
   "metadata": {},
   "source": [
    "## Porter Stemmer\n",
    "\n",
    "Una de las herramientas de derivación más comunes y efectivas es el [*Algoritmo de Porter*] (https://tartarus.org/martin/PorterStemmer/) desarrollado por Martin Porter en [1980] (https://tartarus.org/martin/PorterStemmer/def.txt). El algoritmo emplea cinco fases de reducción de palabras, cada una con su propio conjunto de reglas de mapeo. En la primera fase, se definen reglas de mapeo de sufijos simples, tales como:"
   ]
  },
  {
   "cell_type": "markdown",
   "metadata": {},
   "source": [
    "![stemming1.png](Figures/stemming1.png)"
   ]
  },
  {
   "cell_type": "markdown",
   "metadata": {},
   "source": [
    "De un conjunto dado de reglas derivadas, solo se aplica una regla, basada en el sufijo más largo S1. Entonces, `caresses` se reduce a `caress` pero no a `cares`.\n",
    "\n",
    "Las fases más sofisticadas consideran la longitud / complejidad de la palabra antes de aplicar una regla. Por ejemplo:"
   ]
  },
  {
   "cell_type": "markdown",
   "metadata": {},
   "source": [
    "![stemming1.png](Figures/stemming2.png)"
   ]
  },
  {
   "cell_type": "markdown",
   "metadata": {},
   "source": [
    "Aquí `m> 0` describe la\" medida \"de la raíz, de modo que la regla se aplica a todas las raíces menos a las más básicas."
   ]
  },
  {
   "cell_type": "code",
   "execution_count": 1,
   "metadata": {},
   "outputs": [],
   "source": [
    "# Importar nltk para usar la librería porter\n"
   ]
  },
  {
   "cell_type": "markdown",
   "metadata": {},
   "source": [
    "<font color=green>Observe cómo el lematizador reconoce \"runner\" como un sustantivo, no como una forma verbal o un participio. Además, los adverbios \"easily\" y \"fairly\" se derivan de la raíz inusual \"easili\" y \"fairli\".</font>\n",
    "___"
   ]
  },
  {
   "cell_type": "markdown",
   "metadata": {},
   "source": [
    "## Snowball Stemmer\n",
    "Este es un nombre poco apropiado, ya que Snowball es el nombre de un lenguaje derivado desarrollado por Martin Porter. El algoritmo utilizado aquí se llama más exactamente \"Stemmer inglés\" o \"Stemmer Porter2\". Ofrece una ligera mejora con respecto a la madre Porter original, tanto en lógica como en velocidad. Dado que **nltk** usa el nombre SnowballStemmer, lo usaremos aquí."
   ]
  },
  {
   "cell_type": "code",
   "execution_count": null,
   "metadata": {},
   "outputs": [],
   "source": []
  },
  {
   "cell_type": "code",
   "execution_count": null,
   "metadata": {},
   "outputs": [],
   "source": []
  },
  {
   "cell_type": "code",
   "execution_count": null,
   "metadata": {},
   "outputs": [],
   "source": []
  },
  {
   "cell_type": "markdown",
   "metadata": {
    "collapsed": true
   },
   "source": [
    "<font color=green>En este caso, el stemmer funcionó igual que el Porter Stemmer, con la excepción de que se aplicó \"bastante\" más apropiadamente con \"regular\"</font>\n",
    "___"
   ]
  },
  {
   "cell_type": "markdown",
   "metadata": {},
   "source": [
    "\n",
    "#### Pase algunas de sus propias palabras y pruebe cada lematizador con ellas. ¡Recuerda pasarlos como cuerdas!"
   ]
  },
  {
   "cell_type": "code",
   "execution_count": null,
   "metadata": {},
   "outputs": [],
   "source": []
  },
  {
   "cell_type": "markdown",
   "metadata": {},
   "source": [
    "___\n",
    "El Stemming tiene sus inconvenientes. Si se le da el token \"saw\", la derivación siempre podría devolver `saw`, mientras que la lematización probablemente devolvería `see` o `saw` dependiendo de si el uso del token fue como un verbo o como un sustantivo. Como ejemplo, considere lo siguiente:"
   ]
  },
  {
   "cell_type": "code",
   "execution_count": null,
   "metadata": {},
   "outputs": [],
   "source": []
  },
  {
   "cell_type": "markdown",
   "metadata": {},
   "source": [
    "Aquí, la palabra \"meeting\" aparece dos veces: una vez como verbo y otra como sustantivo, y sin embargo, el lematizador trata a ambos por igual.."
   ]
  }
 ],
 "metadata": {
  "kernelspec": {
   "display_name": "Python 3",
   "language": "python",
   "name": "python3"
  },
  "language_info": {
   "codemirror_mode": {
    "name": "ipython",
    "version": 3
   },
   "file_extension": ".py",
   "mimetype": "text/x-python",
   "name": "python",
   "nbconvert_exporter": "python",
   "pygments_lexer": "ipython3",
   "version": "3.8.5"
  }
 },
 "nbformat": 4,
 "nbformat_minor": 2
}
