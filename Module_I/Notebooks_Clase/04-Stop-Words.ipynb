{
 "cells": [
  {
   "cell_type": "markdown",
   "metadata": {},
   "source": [
    "<img style=\"float: left;;\" src='Figures/alinco.png' /></a>\n",
    "\n",
    "# Modulo I: Stopwords"
   ]
  },
  {
   "cell_type": "markdown",
   "metadata": {},
   "source": [
    "\n",
    "Palabras como \"a\" y \"the\" aparecen con tanta frecuencia que no requieren etiquetarse como sustantivos, verbos y modificadores. A estas las llamamos *stopwords* y se pueden filtrar del texto que se va a procesar. spaCy tiene una lista incorporada de unas 326 stopwords en inglés."
   ]
  },
  {
   "cell_type": "code",
   "execution_count": 5,
   "metadata": {},
   "outputs": [],
   "source": [
    "# Importar librerías\n",
    "import spacy\n",
    "nlp = spacy.load('en_core_web_sm')"
   ]
  },
  {
   "cell_type": "code",
   "execution_count": 6,
   "metadata": {},
   "outputs": [
    {
     "name": "stdout",
     "output_type": "stream",
     "text": [
      "{'himself', 'doing', 'these', 'everywhere', 'the', 'many', 'what', 'were', 'to', 'as', 'show', 'fifteen', 'will', 'its', 'third', 'regarding', 'due', 'per', 'very', 'more', 'between', 'sixty', 'have', 'full', 'another', 'even', 'so', 'however', 'when', 'both', 'other', 'others', 'be', 'because', 'each', 'same', 'him', 'without', 'around', 'if', 'take', 'yet', 'with', 'along', 'thereupon', \"'s\", 'may', 'else', 'anywhere', 'why', 'yours', 'four', 'everyone', 'thru', 'nobody', '‘ve', 'two', '’ve', 'moreover', 'became', 'about', 'almost', 'either', 'side', 'whereafter', 'noone', 'nowhere', 'perhaps', 'rather', 'thereby', 'your', 'neither', 'until', 'once', 'see', 'much', 'besides', 'us', 'beside', 'call', 'n‘t', 'becomes', 'not', 're', 'already', 'throughout', 'whence', \"'m\", 'made', \"n't\", 'via', 'out', 'it', 'ourselves', \"'re\", 'where', 'although', 'someone', '‘d', 'fifty', 'next', 'whenever', '‘re', 'front', 'though', 'elsewhere', 'them', 'becoming', 'latterly', 'under', 'that', 'there', 'forty', 'off', 'hereby', 'hundred', 'had', 'meanwhile', 'being', 'my', 'those', 'could', 'some', 'most', 'thus', 'yourselves', 'just', 'further', 'eleven', 'afterwards', 'less', 'formerly', 'such', 'any', 'seemed', 'themselves', \"'d\", 'several', '’d', 'own', 'beyond', 'itself', 'six', 'alone', 'last', 'again', 'through', 'whether', 'every', 'can', 'he', 'top', 'often', 'her', 'move', 'wherein', 'seem', 'by', 'their', 'give', 'whither', 'one', 'down', 'five', '’ll', '’m', 'has', 'unless', 'below', 'sometimes', 'least', 'say', 'nine', 'twenty', 'anyone', 'of', 'you', 'seems', 'then', 'mine', 'always', 'using', 'this', 'did', 'together', 'across', 'in', 'now', 'enough', '‘m', 'among', '‘s', 'we', 'myself', 'me', 'except', 'would', 'are', 'three', 'done', 'during', 'never', 'after', 'and', 'thence', 'thereafter', '’re', 'all', 'whereupon', \"'ll\", 'upon', 'since', 'while', 'first', 'anyhow', 'few', 'whom', 'on', 'put', 'nevertheless', '‘ll', 'former', 'from', 'indeed', 'empty', 'at', 'twelve', 'amount', 'make', 'well', 'how', 'ours', 'ten', 'cannot', 'too', 'everything', 'back', 'whole', \"'ve\", 'something', 'must', 'should', 'n’t', 'was', 'is', 'yourself', 'therein', 'nothing', 'but', 'seeming', 'therefore', 'used', 'or', 'still', 'eight', 'mostly', 'no', 'really', 'please', 'might', 'am', 'get', 'whoever', 'also', 'go', 'herein', 'hence', 'namely', 'somewhere', 'anything', 'amongst', 'otherwise', 'above', 'our', 'ca', 'sometime', 'part', 'bottom', 'i', 'over', 'none', 'whatever', 'been', 'herself', 'become', 'an', 'beforehand', 'behind', 'whose', 'serious', 'whereas', 'toward', 'hereafter', 'only', 'nor', 'does', 'name', 'anyway', 'towards', 'which', 'against', 'his', 'ever', 'here', 'up', 'do', 'within', 'onto', 'than', 'keep', 'wherever', 'for', 'whereby', '’s', 'quite', 'a', 'somehow', 'various', 'who', 'hers', 'into', 'latter', 'before', 'she', 'they', 'hereupon'}\n"
     ]
    }
   ],
   "source": [
    "# IMprimir la lista de palabras stopwords\n",
    "print(nlp.Defaults.stop_words)"
   ]
  },
  {
   "cell_type": "code",
   "execution_count": 7,
   "metadata": {},
   "outputs": [
    {
     "data": {
      "text/plain": [
       "326"
      ]
     },
     "execution_count": 7,
     "metadata": {},
     "output_type": "execute_result"
    }
   ],
   "source": [
    "len(nlp.Defaults.stop_words)"
   ]
  },
  {
   "cell_type": "markdown",
   "metadata": {},
   "source": [
    "## Ver si una palabra es stopwords"
   ]
  },
  {
   "cell_type": "code",
   "execution_count": 8,
   "metadata": {},
   "outputs": [
    {
     "data": {
      "text/plain": [
       "True"
      ]
     },
     "execution_count": 8,
     "metadata": {},
     "output_type": "execute_result"
    }
   ],
   "source": [
    "nlp.vocab['myself'].is_stop"
   ]
  },
  {
   "cell_type": "code",
   "execution_count": 9,
   "metadata": {},
   "outputs": [
    {
     "data": {
      "text/plain": [
       "True"
      ]
     },
     "execution_count": 9,
     "metadata": {},
     "output_type": "execute_result"
    }
   ],
   "source": [
    "nlp.vocab['of'].is_stop"
   ]
  },
  {
   "cell_type": "code",
   "execution_count": 10,
   "metadata": {},
   "outputs": [
    {
     "data": {
      "text/plain": [
       "False"
      ]
     },
     "execution_count": 10,
     "metadata": {},
     "output_type": "execute_result"
    }
   ],
   "source": [
    "nlp.vocab['mystery'].is_stop"
   ]
  },
  {
   "cell_type": "markdown",
   "metadata": {},
   "source": [
    "## Añadir un stopword\n",
    "Puede haber ocasiones en las que desee agregar una palabra de parada al conjunto predeterminado. Quizás decida que \"por cierto\" (abreviatura común de \"por cierto\") debe considerarse una palabra de parada."
   ]
  },
  {
   "cell_type": "code",
   "execution_count": 11,
   "metadata": {},
   "outputs": [],
   "source": [
    "# Añadir una palabra a los stopwords. en minúsculas!\n",
    "nlp.Defaults.stop_words.add('btw')\n"
   ]
  },
  {
   "cell_type": "code",
   "execution_count": 13,
   "metadata": {},
   "outputs": [
    {
     "data": {
      "text/plain": [
       "True"
      ]
     },
     "execution_count": 13,
     "metadata": {},
     "output_type": "execute_result"
    }
   ],
   "source": [
    "nlp.vocab['btw'].is_stop "
   ]
  },
  {
   "cell_type": "code",
   "execution_count": 14,
   "metadata": {},
   "outputs": [
    {
     "data": {
      "text/plain": [
       "327"
      ]
     },
     "execution_count": 14,
     "metadata": {},
     "output_type": "execute_result"
    }
   ],
   "source": [
    "len(nlp.Defaults.stop_words)"
   ]
  },
  {
   "cell_type": "markdown",
   "metadata": {},
   "source": [
    "<font color=green>Al agregar stopwords, utilice siempre minúsculas. Los lexemas se convierten a minúsculas antes de agregarlos al **vocabulario**.</font>"
   ]
  },
  {
   "cell_type": "markdown",
   "metadata": {},
   "source": [
    "## Removiendo un stopword\n",
    "Alternativamente, puede decidir que \"más allá\" no debe considerarse una palabra de parada."
   ]
  },
  {
   "cell_type": "code",
   "execution_count": 15,
   "metadata": {},
   "outputs": [],
   "source": [
    "# Remover la palabra del conjunti de palabras de stopwords\n",
    "nlp.Defaults.stop_words.remove('btw')"
   ]
  },
  {
   "cell_type": "code",
   "execution_count": 16,
   "metadata": {},
   "outputs": [
    {
     "data": {
      "text/plain": [
       "326"
      ]
     },
     "execution_count": 16,
     "metadata": {},
     "output_type": "execute_result"
    }
   ],
   "source": [
    "len(nlp.Defaults.stop_words)"
   ]
  },
  {
   "cell_type": "code",
   "execution_count": 18,
   "metadata": {},
   "outputs": [],
   "source": [
    "nlp.vocab['btw'].is_stop = False "
   ]
  },
  {
   "cell_type": "code",
   "execution_count": 19,
   "metadata": {},
   "outputs": [
    {
     "data": {
      "text/plain": [
       "False"
      ]
     },
     "execution_count": 19,
     "metadata": {},
     "output_type": "execute_result"
    }
   ],
   "source": [
    "nlp.vocab['btw'].is_stop"
   ]
  },
  {
   "cell_type": "code",
   "execution_count": null,
   "metadata": {},
   "outputs": [],
   "source": []
  }
 ],
 "metadata": {
  "kernelspec": {
   "display_name": "Python 3",
   "language": "python",
   "name": "python3"
  },
  "language_info": {
   "codemirror_mode": {
    "name": "ipython",
    "version": 3
   },
   "file_extension": ".py",
   "mimetype": "text/x-python",
   "name": "python",
   "nbconvert_exporter": "python",
   "pygments_lexer": "ipython3",
   "version": "3.8.5"
  }
 },
 "nbformat": 4,
 "nbformat_minor": 2
}
