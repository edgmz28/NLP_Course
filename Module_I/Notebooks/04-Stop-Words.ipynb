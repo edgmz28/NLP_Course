{
 "cells": [
  {
   "cell_type": "markdown",
   "metadata": {},
   "source": [
    "<img style=\"float: left;;\" src='Figures/alinco.png' /></a>\n",
    "\n",
    "# Modulo I: Stopwords"
   ]
  },
  {
   "cell_type": "markdown",
   "metadata": {},
   "source": [
    "\n",
    "Palabras como \"a\" y \"the\" aparecen con tanta frecuencia que no requieren etiquetarse como sustantivos, verbos y modificadores. A estas las llamamos *stopwords* y se pueden filtrar del texto que se va a procesar. spaCy tiene una lista incorporada de unas 326 stopwords en inglés."
   ]
  },
  {
   "cell_type": "code",
   "execution_count": 4,
   "metadata": {},
   "outputs": [],
   "source": [
    "# Perform standard imports:\n",
    "import spacy\n",
    "nlp = spacy.load('en_core_web_sm')"
   ]
  },
  {
   "cell_type": "code",
   "execution_count": 5,
   "metadata": {},
   "outputs": [
    {
     "name": "stdout",
     "output_type": "stream",
     "text": [
      "{'whose', 'go', 'ever', 'various', \"'m\", 'move', 'everything', 'had', 'thereby', 'whereupon', 'wherein', 'show', 'hundred', 'about', 'see', 'take', 'around', 'enough', '‘re', 'seems', 'via', 'or', 'due', 'three', 'me', 'whither', 'during', 'make', 'my', 'n’t', \"n't\", 'myself', 'what', 'somehow', 'six', 'everywhere', 'often', 'who', 'thus', 'almost', 'one', 'full', 'this', 'whether', 'the', 'even', 'alone', 'because', 'many', 'between', 'hereupon', 'nine', 'been', 'something', '‘ll', 'call', 'on', 'their', 'indeed', 'could', 'cannot', 'whoever', 'without', 'other', 'top', 'ten', 'did', 'whereafter', 'rather', 'themselves', 'each', 'nevertheless', 'yourself', 'seemed', 'whole', 'some', 'although', 'forty', 'somewhere', 'thence', 'four', 'under', 'less', 'and', 'beside', 'not', 'became', 'fifty', 'still', 'upon', 'perhaps', 'mine', 'anywhere', 'nor', 'both', 'hence', 'always', 'done', 'seeming', 'below', 'across', 'otherwise', 'is', 'when', 'these', 'put', 'however', 'be', '‘ve', 'onto', 'throughout', '’m', 'quite', 'unless', 'whom', 'behind', 'becoming', '‘d', 'its', 'now', 'ours', 'being', 'anyway', 'once', 'sometime', 'no', 'have', 'itself', 'amount', 'per', 'though', 'together', 'serious', 'empty', 'against', 'nobody', 'should', 'hers', 'afterwards', 'well', 'she', 'eleven', 'those', 'a', 'we', 'same', \"'d\", 'toward', 'either', 'must', 'mostly', 'bottom', 'through', 'to', 'there', 'twenty', 'regarding', 'thereafter', 'seem', 'then', 'twelve', 'third', 'after', 'from', 'yourselves', 'get', 'whereas', 'while', 'he', 'every', 'among', 'does', 're', 'namely', 'first', 'therein', 'might', 'whence', 'own', 'such', 'until', 'whatever', 'which', 'thru', 'within', 'into', 'has', 'nothing', 'latter', 'hereby', '‘m', 'here', 'why', 'are', 'name', 'only', \"'ll\", 'say', 'part', 'they', 'yet', 'two', 'him', 'i', 'beyond', 'eight', 'else', 'of', 'was', 'than', 'last', 'yours', 'too', 'so', 'give', 'you', 'anything', 'over', 'again', 'up', 'before', 'side', 'in', '’s', 'using', 'if', 'formerly', 'anyhow', 'several', 'where', 'anyone', 'for', 'how', 'besides', 'it', \"'ve\", 'herself', 'all', 'front', 'never', 'ca', 'sixty', 'none', 'above', 'will', 'used', 'sometimes', 'next', 'can', '’d', 'would', 'therefore', 'made', 'just', 'also', 'doing', 'fifteen', 'amongst', 'towards', 'very', 'ourselves', 'but', '’ve', 'except', 'himself', '’re', 'becomes', 'his', 'neither', 'already', 'five', 'moreover', 'beforehand', 'much', 'become', 'nowhere', 'please', 'out', 'our', 'hereafter', 'really', 'them', 'former', 'your', 'at', 'back', 'that', 'most', 'noone', 'as', '‘s', 'keep', 'do', 'someone', 'others', 'latterly', 'n‘t', \"'re\", 'least', 'am', '’ll', 'her', 'with', 'by', 'thereupon', 'everyone', 'few', 'down', 'were', 'elsewhere', 'since', 'along', 'another', 'wherever', 'whereby', 'further', 'meanwhile', 'may', 'more', \"'s\", 'herein', 'us', 'any', 'whenever', 'off', 'an'}\n"
     ]
    }
   ],
   "source": [
    "# Print the set of spaCy's default stop words (remember that sets are unordered):\n",
    "print(nlp.Defaults.stop_words)"
   ]
  },
  {
   "cell_type": "code",
   "execution_count": 6,
   "metadata": {},
   "outputs": [
    {
     "data": {
      "text/plain": [
       "326"
      ]
     },
     "execution_count": 6,
     "metadata": {},
     "output_type": "execute_result"
    }
   ],
   "source": [
    "len(nlp.Defaults.stop_words)"
   ]
  },
  {
   "cell_type": "markdown",
   "metadata": {},
   "source": [
    "## Ver si una palabra es stopwords"
   ]
  },
  {
   "cell_type": "code",
   "execution_count": 7,
   "metadata": {},
   "outputs": [
    {
     "data": {
      "text/plain": [
       "True"
      ]
     },
     "execution_count": 7,
     "metadata": {},
     "output_type": "execute_result"
    }
   ],
   "source": [
    "nlp.vocab['myself'].is_stop"
   ]
  },
  {
   "cell_type": "code",
   "execution_count": 8,
   "metadata": {},
   "outputs": [
    {
     "data": {
      "text/plain": [
       "False"
      ]
     },
     "execution_count": 8,
     "metadata": {},
     "output_type": "execute_result"
    }
   ],
   "source": [
    "nlp.vocab['mystery'].is_stop"
   ]
  },
  {
   "cell_type": "markdown",
   "metadata": {},
   "source": [
    "## Añadir un stopword\n",
    "Puede haber ocasiones en las que desee agregar una palabra de parada al conjunto predeterminado. Quizás decida que \"por cierto\" (abreviatura común de \"por cierto\") debe considerarse una palabra de parada."
   ]
  },
  {
   "cell_type": "code",
   "execution_count": 9,
   "metadata": {},
   "outputs": [],
   "source": [
    "# Add the word to the set of stop words. Use lowercase!\n",
    "nlp.Defaults.stop_words.add('btw')\n",
    "\n",
    "# Set the stop_word tag on the lexeme\n",
    "nlp.vocab['btw'].is_stop = True"
   ]
  },
  {
   "cell_type": "code",
   "execution_count": 10,
   "metadata": {},
   "outputs": [
    {
     "data": {
      "text/plain": [
       "327"
      ]
     },
     "execution_count": 10,
     "metadata": {},
     "output_type": "execute_result"
    }
   ],
   "source": [
    "len(nlp.Defaults.stop_words)"
   ]
  },
  {
   "cell_type": "code",
   "execution_count": 11,
   "metadata": {},
   "outputs": [
    {
     "data": {
      "text/plain": [
       "True"
      ]
     },
     "execution_count": 11,
     "metadata": {},
     "output_type": "execute_result"
    }
   ],
   "source": [
    "nlp.vocab['btw'].is_stop"
   ]
  },
  {
   "cell_type": "markdown",
   "metadata": {},
   "source": [
    "<font color=green>Al agregar stopwords, utilice siempre minúsculas. Los lexemas se convierten a minúsculas antes de agregarlos al **vocabulario**.</font>"
   ]
  },
  {
   "cell_type": "markdown",
   "metadata": {},
   "source": [
    "## Removiendo un stopword\n",
    "Alternativamente, puede decidir que \"más allá\" no debe considerarse una palabra de parada."
   ]
  },
  {
   "cell_type": "code",
   "execution_count": 12,
   "metadata": {},
   "outputs": [],
   "source": [
    "# Remove the word from the set of stop words\n",
    "nlp.Defaults.stop_words.remove('beyond')\n",
    "\n",
    "# Remove the stop_word tag from the lexeme\n",
    "nlp.vocab['beyond'].is_stop = False"
   ]
  },
  {
   "cell_type": "code",
   "execution_count": 13,
   "metadata": {},
   "outputs": [
    {
     "data": {
      "text/plain": [
       "326"
      ]
     },
     "execution_count": 13,
     "metadata": {},
     "output_type": "execute_result"
    }
   ],
   "source": [
    "len(nlp.Defaults.stop_words)"
   ]
  },
  {
   "cell_type": "code",
   "execution_count": 14,
   "metadata": {},
   "outputs": [
    {
     "data": {
      "text/plain": [
       "False"
      ]
     },
     "execution_count": 14,
     "metadata": {},
     "output_type": "execute_result"
    }
   ],
   "source": [
    "nlp.vocab['beyond'].is_stop"
   ]
  }
 ],
 "metadata": {
  "kernelspec": {
   "display_name": "Python 3",
   "language": "python",
   "name": "python3"
  },
  "language_info": {
   "codemirror_mode": {
    "name": "ipython",
    "version": 3
   },
   "file_extension": ".py",
   "mimetype": "text/x-python",
   "name": "python",
   "nbconvert_exporter": "python",
   "pygments_lexer": "ipython3",
   "version": "3.8.5"
  }
 },
 "nbformat": 4,
 "nbformat_minor": 2
}
